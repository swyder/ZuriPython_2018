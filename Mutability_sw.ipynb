{
 "cells": [
  {
   "cell_type": "markdown",
   "metadata": {},
   "source": [
    "# Mutability\n",
    "\n",
    "You will encounter the term **\"mutable\"** and **\"immutable\"** while reading/discussing Python. Essentially, this means whether an object can be modified/mutated.\n",
    "\n",
    "This concept is important at a fundamental level, particularly with regards to dictionaries. The key-value structure of a dictionary is essentially what is called a **\"hash table\"** or **\"associative array\"**. These are common to most programming languages. These data structures work efficiently due to the use of a hash function which generates an **index** for quickly accessing values linked to keys. Think of it like a phone book, where you can quickly flip to the desired pages using alphabetical sorting. For this indexing to work, keys point to a static space in memory and can't be changed, otherwise the index has to be recreated. Thus, **dictionary keys must be immutable objects**.\n",
    "\n"
   ]
  },
  {
   "cell_type": "markdown",
   "metadata": {},
   "source": [
    "## Which object types are mutable?\n",
    "\n",
    "**\"mutable\" means that you can change the object**. For example, integers are not mutable: you cannot change the number 1 to mean anything else.\n",
    "\n",
    "Common immutable type:  \n",
    "  numbers: integer, float, booleans  \n",
    "  immutable sequences: string, tuple, frozenset\n",
    "    \n",
    "Common mutable type (almost everything else):  \n",
    "   list, set, dict  "
   ]
  },
  {
   "cell_type": "markdown",
   "metadata": {},
   "source": [
    "## Strings\n",
    "\n",
    "Accessing elements and slicing for strings works similarly as in lists. In contrast to lists, Python strings are immutable. However, `a` is not a string: it is a variable with a string value. You can't mutate the string, but can change what value of the variable to a new string"
   ]
  },
  {
   "cell_type": "code",
   "execution_count": 1,
   "metadata": {},
   "outputs": [
    {
     "data": {
      "text/plain": [
       "'g'"
      ]
     },
     "execution_count": 1,
     "metadata": {},
     "output_type": "execute_result"
    }
   ],
   "source": [
    "a = \"dog\"\n",
    "a[2]"
   ]
  },
  {
   "cell_type": "code",
   "execution_count": 2,
   "metadata": {},
   "outputs": [
    {
     "ename": "TypeError",
     "evalue": "'str' object does not support item assignment",
     "output_type": "error",
     "traceback": [
      "\u001b[0;31m---------------------------------------------------------------------------\u001b[0m",
      "\u001b[0;31mTypeError\u001b[0m                                 Traceback (most recent call last)",
      "\u001b[0;32m<ipython-input-2-246356201758>\u001b[0m in \u001b[0;36m<module>\u001b[0;34m()\u001b[0m\n\u001b[1;32m      1\u001b[0m \u001b[0;31m# mutating a string is not possible\u001b[0m\u001b[0;34m\u001b[0m\u001b[0;34m\u001b[0m\u001b[0m\n\u001b[0;32m----> 2\u001b[0;31m \u001b[0ma\u001b[0m\u001b[0;34m[\u001b[0m\u001b[0;36m2\u001b[0m\u001b[0;34m]\u001b[0m \u001b[0;34m=\u001b[0m \u001b[0;34m\"t\"\u001b[0m\u001b[0;34m\u001b[0m\u001b[0m\n\u001b[0m",
      "\u001b[0;31mTypeError\u001b[0m: 'str' object does not support item assignment"
     ]
    }
   ],
   "source": [
    "# mutating a string is not possible\n",
    "a[2] = \"t\""
   ]
  },
  {
   "cell_type": "code",
   "execution_count": 3,
   "metadata": {},
   "outputs": [
    {
     "name": "stdout",
     "output_type": "stream",
     "text": [
      "cat\n"
     ]
    }
   ],
   "source": [
    "# but we can assign a new string\n",
    "a = \"cat\"\n",
    "print(a)"
   ]
  },
  {
   "cell_type": "markdown",
   "metadata": {},
   "source": [
    "## Tuples\n",
    "\n",
    "Mutability is also an important concept at a functional level in Python. In some cases, it is safer or otherwise optimal to use data structures which can't be modified. \n",
    "\n",
    "The tuple data container is also like a list, however tuples are immutable."
   ]
  },
  {
   "cell_type": "code",
   "execution_count": 4,
   "metadata": {},
   "outputs": [
    {
     "name": "stdout",
     "output_type": "stream",
     "text": [
      "Curly\n"
     ]
    },
    {
     "ename": "TypeError",
     "evalue": "'tuple' object does not support item assignment",
     "output_type": "error",
     "traceback": [
      "\u001b[0;31m---------------------------------------------------------------------------\u001b[0m",
      "\u001b[0;31mTypeError\u001b[0m                                 Traceback (most recent call last)",
      "\u001b[0;32m<ipython-input-4-c4e02b653bdd>\u001b[0m in \u001b[0;36m<module>\u001b[0;34m()\u001b[0m\n\u001b[1;32m      3\u001b[0m \u001b[0mprint\u001b[0m\u001b[0;34m(\u001b[0m\u001b[0mnameTuple\u001b[0m\u001b[0;34m[\u001b[0m\u001b[0;36m0\u001b[0m\u001b[0;34m]\u001b[0m\u001b[0;34m)\u001b[0m\u001b[0;34m\u001b[0m\u001b[0m\n\u001b[1;32m      4\u001b[0m \u001b[0;34m\u001b[0m\u001b[0m\n\u001b[0;32m----> 5\u001b[0;31m \u001b[0mnameTuple\u001b[0m\u001b[0;34m[\u001b[0m\u001b[0;36m0\u001b[0m\u001b[0;34m]\u001b[0m \u001b[0;34m=\u001b[0m \u001b[0;34m\"Harry\"\u001b[0m\u001b[0;34m\u001b[0m\u001b[0m\n\u001b[0m",
      "\u001b[0;31mTypeError\u001b[0m: 'tuple' object does not support item assignment"
     ]
    }
   ],
   "source": [
    "nameTuple = (\"Curly\",\"Larry\",\"Moe\")\n",
    "\n",
    "print(nameTuple[0])\n",
    "\n",
    "nameTuple[0] = \"Harry\""
   ]
  },
  {
   "cell_type": "markdown",
   "metadata": {},
   "source": [
    "As a tuple is immutable, it does not support item assignment. In contrast, elements in a list can be altered individually."
   ]
  },
  {
   "cell_type": "markdown",
   "metadata": {},
   "source": [
    "# Variables as References\n",
    "\n",
    "In Python, objects are passed as **references**. This means that a variable is only referring to the object as a particular space in memory. Consider the following:"
   ]
  },
  {
   "cell_type": "code",
   "execution_count": 5,
   "metadata": {},
   "outputs": [
    {
     "name": "stdout",
     "output_type": "stream",
     "text": [
      "[999, 1, 2, 3, 4, 5, 6, 7, 8, 9]\n"
     ]
    }
   ],
   "source": [
    "varA = list(range(10))\n",
    "\n",
    "varB = varA\n",
    "\n",
    "varB[0] = 999\n",
    "\n",
    "print(varA)"
   ]
  },
  {
   "cell_type": "markdown",
   "metadata": {},
   "source": [
    "In the above example, varA and varB are different references pointing to the same object in memory space. \n",
    "\n",
    "You can make independent copies of variables, thus creating a new space in memory for the copy:"
   ]
  },
  {
   "cell_type": "code",
   "execution_count": 6,
   "metadata": {},
   "outputs": [
    {
     "name": "stdout",
     "output_type": "stream",
     "text": [
      "[0, 1, 2, 3, 4, 5, 6, 7, 8, 9]\n",
      "[999, 1, 2, 3, 4, 5, 6, 7, 8, 9]\n"
     ]
    }
   ],
   "source": [
    "import copy\n",
    "\n",
    "varA = list(range(10))\n",
    "\n",
    "varB = copy.copy(varA)\n",
    "\n",
    "varB[0] = 999\n",
    "\n",
    "print(varA)\n",
    "print(varB)"
   ]
  },
  {
   "cell_type": "markdown",
   "metadata": {},
   "source": [
    "Note that the above copying is **\"shallow\"** - this won't work for nested structures. To do this, you need to use the deepcopy method:"
   ]
  },
  {
   "cell_type": "code",
   "execution_count": 7,
   "metadata": {},
   "outputs": [
    {
     "name": "stdout",
     "output_type": "stream",
     "text": [
      "{'A': [999, 1, 2], 'B': [3, 4, 5], 'C': [6, 7, 8]}\n",
      "{'A': [999, 1, 2], 'B': [3, 4, 5], 'C': [6, 7, 8]}\n",
      "{'A': [0, 1, 2], 'B': [3, 4, 5], 'C': [6, 7, 8]}\n"
     ]
    }
   ],
   "source": [
    "import copy\n",
    "\n",
    "nest1 = { \"A\":[0,1,2], \"B\":[3,4,5], \"C\":[6,7,8] }\n",
    "\n",
    "nest2 = copy.copy(nest1)\n",
    "\n",
    "nest3 = copy.deepcopy(nest1)\n",
    "\n",
    "nest1['A'][0] = 999\n",
    "\n",
    "print(nest1)\n",
    "print(nest2)\n",
    "print(nest3)"
   ]
  },
  {
   "cell_type": "code",
   "execution_count": 8,
   "metadata": {},
   "outputs": [
    {
     "name": "stdout",
     "output_type": "stream",
     "text": [
      "URPP\n",
      "SIB\n"
     ]
    }
   ],
   "source": [
    "# the problem doesn't exist with strings\n",
    "\n",
    "a = 'SIB'\n",
    "b = a\n",
    "a = 'URPP'\n",
    "\n",
    "print(a)\n",
    "print(b)"
   ]
  },
  {
   "cell_type": "markdown",
   "metadata": {},
   "source": [
    "### Further reading\n",
    "\n",
    "https://stackoverflow.com/questions/8056130/immutable-vs-mutable-types"
   ]
  },
  {
   "cell_type": "code",
   "execution_count": null,
   "metadata": {},
   "outputs": [],
   "source": []
  }
 ],
 "metadata": {
  "kernelspec": {
   "display_name": "Python 3",
   "language": "python",
   "name": "python3"
  },
  "language_info": {
   "codemirror_mode": {
    "name": "ipython",
    "version": 3
   },
   "file_extension": ".py",
   "mimetype": "text/x-python",
   "name": "python",
   "nbconvert_exporter": "python",
   "pygments_lexer": "ipython3",
   "version": "3.6.3"
  }
 },
 "nbformat": 4,
 "nbformat_minor": 1
}
