{
 "cells": [
  {
   "cell_type": "markdown",
   "metadata": {},
   "source": [
    "# Dictionaries\n",
    "\n",
    "- A dictionary (also known as associative array, hash or map) is another type of data container\n",
    "- very useful for storing \"paired data\""
   ]
  },
  {
   "cell_type": "code",
   "execution_count": 1,
   "metadata": {},
   "outputs": [],
   "source": [
    "PhoneNumbers = {}   # Create an empty dictionary \n",
    "PhoneNumbers['John'] = '463673'\n",
    "PhoneNumbers['Mary'] = '279943'"
   ]
  },
  {
   "cell_type": "markdown",
   "metadata": {},
   "source": [
    "True to the dictionary analogy, values in dictionaries are looked up according to their keys, rather than by their position (as would happen in a list).\n",
    "\n",
    "We extract values from the dictionary using square brackets `[]`"
   ]
  },
  {
   "cell_type": "code",
   "execution_count": 2,
   "metadata": {
    "scrolled": true
   },
   "outputs": [
    {
     "name": "stdout",
     "output_type": "stream",
     "text": [
      "279943\n"
     ]
    }
   ],
   "source": [
    "#prints out Mary's phone number\n",
    "print(PhoneNumbers['Mary'])"
   ]
  },
  {
   "cell_type": "markdown",
   "metadata": {},
   "source": [
    "The contents of dictionaries can be modified"
   ]
  },
  {
   "cell_type": "code",
   "execution_count": 3,
   "metadata": {
    "scrolled": true
   },
   "outputs": [
    {
     "name": "stdout",
     "output_type": "stream",
     "text": [
      "123\n"
     ]
    }
   ],
   "source": [
    "PhoneNumbers['Mary'] = '123'\n",
    "print(PhoneNumbers['Mary'])"
   ]
  },
  {
   "cell_type": "markdown",
   "metadata": {},
   "source": [
    "## Creating dictionaries\n",
    "\n",
    "There are several ways to create dictionaries: \n",
    "\n",
    "The most direct way is like this:\n",
    "\n",
    "```python\n",
    "MyDictionary = {key:value, nextkey:nextvalue}\n",
    "```\n",
    "\n",
    "For example"
   ]
  },
  {
   "cell_type": "code",
   "execution_count": 4,
   "metadata": {},
   "outputs": [],
   "source": [
    "PhoneNumbers = {'John':'463673', 'Mary':'279943'}"
   ]
  },
  {
   "cell_type": "markdown",
   "metadata": {},
   "source": [
    "In this example, the keys are strings, and the values are strings.\n",
    "\n",
    "💡 Python does allow a statement to be split across lines if the splits occurs within `(),[] or {}`."
   ]
  },
  {
   "cell_type": "code",
   "execution_count": 5,
   "metadata": {},
   "outputs": [],
   "source": [
    "PhoneNumbers = {\n",
    "    'John':'463673',\n",
    "    'Mary':'279943',\n",
    "    'William':'393493',\n",
    "    'Bob':'236333', \n",
    "    'Linda':'976866'}"
   ]
  },
  {
   "cell_type": "markdown",
   "metadata": {},
   "source": [
    "is also valid, and often helps to make long list/dictionary entries more readible.\n",
    "\n",
    "💡 The third way of creating is handy when you have 2 lists, one containing keys and the other containing values.\n",
    "\n",
    "```python\n",
    "Names = ['John','Mary']\n",
    "Numbers = ['463673','279943']\n",
    "PhoneNumbers = dict(zip(Names,Numbers))\n",
    "```"
   ]
  },
  {
   "cell_type": "markdown",
   "metadata": {},
   "source": [
    "If we are not sure whether a key is in a dictionary or not, we can test it:"
   ]
  },
  {
   "cell_type": "code",
   "execution_count": 6,
   "metadata": {},
   "outputs": [
    {
     "name": "stdout",
     "output_type": "stream",
     "text": [
      "False\n",
      "True\n"
     ]
    }
   ],
   "source": [
    "print('Robbie' in PhoneNumbers)\n",
    "print('Mary' in PhoneNumbers)"
   ]
  },
  {
   "cell_type": "markdown",
   "metadata": {},
   "source": [
    "It is often convenient to combine dictionaries and lists, making a dictionary of lists. For instance, you could associate lists of contact data with particular persons.\n",
    "\n",
    "```python\n",
    "Contacts = {}\n",
    "# [PhoneNumber, City, Street, YearOfBirth] \n",
    "Contacts['John'] = ['463673', 'Zurich', 1984]\n",
    "Contacts['Mary'] = ['279943', 'Paris', 1983]\n",
    "Contacts['William'] = ['393493', 'London', 1990]\n",
    "```\n",
    "\n",
    "You can also create a dictionary of dictionaries.\n",
    "\n",
    "In summary, dictionaries are more flexible than lists: In a dictionary, you can create an entry e.g. for key 16 without having any data corresponding to keys 0 to 15. This lets you fill in data as they become known.\n",
    "\n",
    "Importantly, dictionaries provide efficient lookup.\n",
    "\n",
    "## Important dictionary functions\n",
    "### The .get() function\n",
    "\n",
    "allows to extract values from a dictionary but with a default value to be returned if the entry doesn't exist.\n",
    "\n",
    "```python\n",
    "codon_table['atg']\n",
    "codon_table.get('atg')  # is the same\n",
    "\n",
    "codon_table.get('atg', 0)\n",
    "```\n",
    "\n",
    "### The .keys() function\n",
    "\n",
    "Extracts a list of the keys in a dictionary. Remember that there is no intrinsic order to the keys or values in a dictionary.\n",
    "\n",
    "### The .values() function\n",
    "\n",
    "Extracts a list of the values in a dictionary. Remember that there is no intrinsic order to the keys or values in a dictionary .\n",
    "\n",
    "## Listing keys and values\n",
    "\n",
    "In Python pseudocode:\n",
    "\n",
    "```python\n",
    "for MyItem in MyCollection:\n",
    "   do a command with MyItem\n",
    "   do another command\n",
    "resume operation of main commands\n",
    "```\n",
    "\n",
    "We can loop through a dictionary in two ways:"
   ]
  },
  {
   "cell_type": "code",
   "execution_count": 7,
   "metadata": {},
   "outputs": [
    {
     "name": "stdout",
     "output_type": "stream",
     "text": [
      "John -> 463673\n",
      "Mary -> 279943\n",
      "William -> 393493\n",
      "Bob -> 236333\n",
      "Linda -> 976866\n"
     ]
    }
   ],
   "source": [
    "# traversing through keys\n",
    "for person in PhoneNumbers.keys():\n",
    "    print(person, '->', PhoneNumbers[person])\n",
    "    \n",
    "# the short version:\n",
    "#for person in PhoneNumbers:\n",
    "#   print(person, PhoneNumbers[person])"
   ]
  },
  {
   "cell_type": "code",
   "execution_count": 8,
   "metadata": {},
   "outputs": [
    {
     "name": "stdout",
     "output_type": "stream",
     "text": [
      "John -> 463673\n",
      "Mary -> 279943\n",
      "William -> 393493\n",
      "Bob -> 236333\n",
      "Linda -> 976866\n"
     ]
    }
   ],
   "source": [
    "# we can also get keys and values directly\n",
    "for key, value in PhoneNumbers.items():\n",
    "    print(key, '->', value)"
   ]
  },
  {
   "cell_type": "markdown",
   "metadata": {},
   "source": [
    "It is important to note that dictionaries are “unordered” and do not remember the sequence of their items (i.e. the order in which key:value pairs were added to the dictionary). Because of this, the order in which items are returned from loops over dictionaries might appear random and can even change with time."
   ]
  },
  {
   "cell_type": "markdown",
   "metadata": {},
   "source": [
    "## Sorting\n",
    "\n",
    "The power of dict comes now from sorting: We can sort the keys and then retrieve the associated values in a particular order. After sorting, we get back a sorted list as dictionaries are unordered.\n",
    "\n",
    "```python\n",
    "SortedKeys = sorted(PhoneNumbers.keys())\n",
    "```\n",
    "\n",
    "We can then loop over the sorted keys using (we don't need to write the .keys()):\n",
    "\n",
    "```python\n",
    "for PersonSorted in SortedKeys:\n",
    "    print SortedPerson, PhoneNumbers[PersonSorted]\n",
    "```\n",
    "\n",
    "To get a list containing sorted values we do:\n",
    "\n",
    "```python\n",
    "SortedValues = sorted(PhoneNumbers.values())\n",
    "```\n",
    "\n",
    "If we need the key-value pairs sorted by values it is a bit more complicated:\n",
    "\n",
    "```python\n",
    "SortedValuesAsPairs = sorted(PhoneNumbers.items(), key=lambda x: x[1])\n",
    "```\n",
    "\n",
    "Again we are getting back a list.\n",
    "\n",
    "The sorting order can be changed using the reverse=True parameter."
   ]
  },
  {
   "cell_type": "markdown",
   "metadata": {},
   "source": [
    "## Key points\n",
    "\n",
    "- Dictionary (also known as associative array, hash or map) is another type of container\n",
    "- Collection of names, or keys, with each key pointing to an associated value\n",
    "- The keys for a dictionary must be unique\n",
    "- Keys can be integers or strings\n",
    "- Unordered: Elements don't have a fixed position"
   ]
  },
  {
   "cell_type": "markdown",
   "metadata": {},
   "source": [
    "## Further Reading\n",
    "\n",
    "see OrderedDict from module collections that remembers the order entries were added https://docs.python.org/3/library/collections.html"
   ]
  },
  {
   "cell_type": "markdown",
   "metadata": {},
   "source": [
    "## Exercise: Codon Table\n",
    "\n",
    "We have a dictionary codon_table containing the codon table, it will look up the amino acid encoded by the codon.\n",
    "\n",
    "```python\n",
    "codon_table = {  \n",
    "  'ATA':'I', 'ATC':'I', 'ATT':'I', 'ATG':'M', 'ACA':'T', 'ACC':'T', 'ACG':'T', 'ACT':'T',  \n",
    "  'AAC':'N', 'AAT':'N', 'AAA':'K', 'AAG':'K', 'AGC':'S', 'AGT':'S', 'AGA':'R', 'AGG':'R',  \n",
    "  'CTA':'L', 'CTC':'L', 'CTG':'L', 'CTT':'L', 'CCA':'P', 'CCC':'P', 'CCG':'P', 'CCT':'P',  \n",
    "  'CAC':'H', 'CAT':'H', 'CAA':'Q', 'CAG':'Q', 'CGA':'R', 'CGC':'R', 'CGG':'R', 'CGT':'R',  \n",
    "  'GTA':'V', 'GTC':'V', 'GTG':'V', 'GTT':'V', 'GCA':'A', 'GCC':'A', 'GCG':'A', 'GCT':'A',  \n",
    "  'GAC':'D', 'GAT':'D', 'GAA':'E', 'GAG':'E', 'GGA':'G', 'GGC':'G', 'GGG':'G', 'GGT':'G',  \n",
    "  'TCA':'S', 'TCC':'S', 'TCG':'S', 'TCT':'S', 'TTC':'F', 'TTT':'F', 'TTA':'L', 'TTG':'L',  \n",
    "  'TAC':'Y', 'TAT':'Y', 'TAA':'*', 'TAG':'*', 'TGC':'C', 'TGT':'C', 'TGA':'*', 'TGG':'W'}  \n",
    "```\n",
    "\n",
    "For instance, print(codon_table['ATG']) will print out 'M'\n",
    "\n",
    "1. Write a script that prints out the protein sequence encoded by the DNA 'GTGCGGCCACCT'. Print out the position,the codon and the growing amino acid sequence. Hint: look at the function `range()`\n",
    "2. Convert it into a function (if you did not write it as a function)\n",
    "3. Make your script safer by also allowing both upper and lower case letters, check that only valid letters occur, ...\n",
    " 💡 Use the Cheat Sheet to find out which string function to use for converting letters to\n",
    "4. Make a count table how many codons encode the same amino acid\n",
    "5. Print out a sorted count table\n",
    "6. Write a backtranslator (protein -> DNA). Make up an example amino sequence, backtranslate it into DNA and translate it again into a protein (Using the function you wrote above).\n",
    "\n",
    "## Exercise: Counting insects\n",
    "\n",
    "The following script you found on the internet. Try to understand it. How needs the input file to be formatted?\n",
    "1. Make up an input file and run the script.\n",
    "2. Modify the script so that it reads in only the second column of each line.\n",
    "\n",
    "```python\n",
    "# CountInsects.py\n",
    "import sys\n",
    "\n",
    "def count_names(lines):\n",
    "  '''Count unique lines of text, returning dictionary.'''\n",
    "\n",
    "  result = {}                   # Create an empty directionary to fill\n",
    "  for name in lines:            # Handle input values one at a time\n",
    "     name = name.strip()\n",
    "     if name in result:     # If we have seen this name before...\n",
    "            result[name] = result[name] + 1    # add one to its count\n",
    "     else:                                     # If it is the first time we see that name\n",
    "            result[name] = 1\n",
    "\n",
    "  return result\n",
    "\n",
    "\n",
    "reader = open(sys.argv[1], 'r')\n",
    "lines = reader.readlines()\n",
    "reader.close()\n",
    "\n",
    "# Count distinctive values\n",
    "count = count_names(lines)\n",
    "for name in count:\n",
    "   print(name, count[name])  \n",
    "```"
   ]
  },
  {
   "cell_type": "markdown",
   "metadata": {},
   "source": [
    "## Solutions for Exercise Codon Table"
   ]
  },
  {
   "cell_type": "code",
   "execution_count": 9,
   "metadata": {},
   "outputs": [],
   "source": [
    "codon_table = {  \n",
    "  'ATA':'I', 'ATC':'I', 'ATT':'I', 'ATG':'M', 'ACA':'T', 'ACC':'T', 'ACG':'T', 'ACT':'T',  \n",
    "  'AAC':'N', 'AAT':'N', 'AAA':'K', 'AAG':'K', 'AGC':'S', 'AGT':'S', 'AGA':'R', 'AGG':'R',  \n",
    "  'CTA':'L', 'CTC':'L', 'CTG':'L', 'CTT':'L', 'CCA':'P', 'CCC':'P', 'CCG':'P', 'CCT':'P',  \n",
    "  'CAC':'H', 'CAT':'H', 'CAA':'Q', 'CAG':'Q', 'CGA':'R', 'CGC':'R', 'CGG':'R', 'CGT':'R',  \n",
    "  'GTA':'V', 'GTC':'V', 'GTG':'V', 'GTT':'V', 'GCA':'A', 'GCC':'A', 'GCG':'A', 'GCT':'A',  \n",
    "  'GAC':'D', 'GAT':'D', 'GAA':'E', 'GAG':'E', 'GGA':'G', 'GGC':'G', 'GGG':'G', 'GGT':'G',  \n",
    "  'TCA':'S', 'TCC':'S', 'TCG':'S', 'TCT':'S', 'TTC':'F', 'TTT':'F', 'TTA':'L', 'TTG':'L',  \n",
    "  'TAC':'Y', 'TAT':'Y', 'TAA':'*', 'TAG':'*', 'TGC':'C', 'TGT':'C', 'TGA':'*', 'TGG':'W'}"
   ]
  },
  {
   "cell_type": "code",
   "execution_count": 10,
   "metadata": {},
   "outputs": [
    {
     "name": "stdout",
     "output_type": "stream",
     "text": [
      "M\n"
     ]
    }
   ],
   "source": [
    "print(codon_table['ATG'])"
   ]
  },
  {
   "cell_type": "markdown",
   "metadata": {},
   "source": [
    "### 1. Write a script that prints out the protein sequence encoded by the DNA 'GTGCGGCCACCT'. Print out the position,the codon and the growing amino acid sequence."
   ]
  },
  {
   "cell_type": "code",
   "execution_count": 11,
   "metadata": {},
   "outputs": [
    {
     "name": "stdout",
     "output_type": "stream",
     "text": [
      "0 GTG V\n",
      "3 CGG VR\n",
      "6 CCA VRP\n",
      "9 CCT VRPP\n"
     ]
    }
   ],
   "source": [
    "dna = 'GTGCGGCCACCT'\n",
    "\n",
    "aaseq = ''\n",
    "\n",
    "for pos in range(0, len(dna)-1, 3):\n",
    "    codon = dna[pos:pos+3]\n",
    "    aaseq += codon_table[codon]\n",
    "    print(pos, codon, aaseq)"
   ]
  },
  {
   "cell_type": "markdown",
   "metadata": {},
   "source": [
    "### 2. Convert it into a function (if you did not write it as a function)"
   ]
  },
  {
   "cell_type": "code",
   "execution_count": 12,
   "metadata": {},
   "outputs": [
    {
     "name": "stdout",
     "output_type": "stream",
     "text": [
      "VRPP\n"
     ]
    }
   ],
   "source": [
    "def Translate_DNA(dna):\n",
    "\n",
    "   codon_table = {\n",
    "    'ATA':'I', 'ATC':'I', 'ATT':'I', 'ATG':'M', 'ACA':'T', 'ACC':'T', 'ACG':'T', 'ACT':'T',\n",
    "    'AAC':'N', 'AAT':'N', 'AAA':'K', 'AAG':'K', 'AGC':'S', 'AGT':'S', 'AGA':'R', 'AGG':'R',\n",
    "    'CTA':'L', 'CTC':'L', 'CTG':'L', 'CTT':'L', 'CCA':'P', 'CCC':'P', 'CCG':'P', 'CCT':'P',\n",
    "    'CAC':'H', 'CAT':'H', 'CAA':'Q', 'CAG':'Q', 'CGA':'R', 'CGC':'R', 'CGG':'R', 'CGT':'R',\n",
    "    'GTA':'V', 'GTC':'V', 'GTG':'V', 'GTT':'V', 'GCA':'A', 'GCC':'A', 'GCG':'A', 'GCT':'A',\n",
    "    'GAC':'D', 'GAT':'D', 'GAA':'E', 'GAG':'E', 'GGA':'G', 'GGC':'G', 'GGG':'G', 'GGT':'G',\n",
    "    'TCA':'S', 'TCC':'S', 'TCG':'S', 'TCT':'S', 'TTC':'F', 'TTT':'F', 'TTA':'L', 'TTG':'L',\n",
    "    'TAC':'Y', 'TAT':'Y', 'TAA':'_', 'TAG':'_', 'TGC':'C', 'TGT':'C', 'TGA':'_', 'TGG':'W'}\n",
    "\n",
    "   aaSeq = ''\n",
    "   for pos in range(0, len(dna)-1, 3):\n",
    "      codon = dna[pos:pos+3]\n",
    "      aaSeq += codon_table[codon]\n",
    "   return aaSeq\n",
    "\n",
    "\n",
    "\n",
    "print(Translate_DNA('GTGCGGCCACCT'))"
   ]
  },
  {
   "cell_type": "markdown",
   "metadata": {},
   "source": [
    "### 3. Make your script safer by also allowing both upper and lower case letters, check that only valid letters occur, the length of the DNA sequence is a multiple of 3..."
   ]
  },
  {
   "cell_type": "code",
   "execution_count": 13,
   "metadata": {},
   "outputs": [
    {
     "name": "stdout",
     "output_type": "stream",
     "text": [
      "VRPP\n"
     ]
    }
   ],
   "source": [
    "def Safe_Translate_DNA(dna):\n",
    "   \"Translates DNA into amino acid and checks that input sequence is a valid DNA sequence\"\n",
    "   \n",
    "   from sys import exit\n",
    "   \n",
    "   codon_table = {\n",
    "    'ATA':'I', 'ATC':'I', 'ATT':'I', 'ATG':'M', 'ACA':'T', 'ACC':'T', 'ACG':'T', 'ACT':'T',\n",
    "    'AAC':'N', 'AAT':'N', 'AAA':'K', 'AAG':'K', 'AGC':'S', 'AGT':'S', 'AGA':'R', 'AGG':'R',\n",
    "    'CTA':'L', 'CTC':'L', 'CTG':'L', 'CTT':'L', 'CCA':'P', 'CCC':'P', 'CCG':'P', 'CCT':'P',\n",
    "    'CAC':'H', 'CAT':'H', 'CAA':'Q', 'CAG':'Q', 'CGA':'R', 'CGC':'R', 'CGG':'R', 'CGT':'R',\n",
    "    'GTA':'V', 'GTC':'V', 'GTG':'V', 'GTT':'V', 'GCA':'A', 'GCC':'A', 'GCG':'A', 'GCT':'A',\n",
    "    'GAC':'D', 'GAT':'D', 'GAA':'E', 'GAG':'E', 'GGA':'G', 'GGC':'G', 'GGG':'G', 'GGT':'G',\n",
    "    'TCA':'S', 'TCC':'S', 'TCG':'S', 'TCT':'S', 'TTC':'F', 'TTT':'F', 'TTA':'L', 'TTG':'L',\n",
    "    'TAC':'Y', 'TAT':'Y', 'TAA':'_', 'TAG':'_', 'TGC':'C', 'TGT':'C', 'TGA':'_', 'TGG':'W'}\n",
    "\n",
    "   dnaUpper = dna.upper()\n",
    "   if len(dnaUpper) % 3 != 0 :\n",
    "       exit('DNA sequence length is not a multiple of 3')\n",
    "   for letter in dnaUpper:\n",
    "      if letter not in ['G','A','T','C']:\n",
    "          exit('Invalid letter(s) other than GATC present in sequence') # sys.exit stops execution\n",
    "   aaSeq = ''\n",
    "   for pos in range(0, len(dnaUpper)-1, 3):\n",
    "      codon = dnaUpper[pos:pos+3]\n",
    "      aaSeq += codon_table[codon]\n",
    "   return aaSeq\n",
    "\n",
    "\n",
    "print(Safe_Translate_DNA('GTGCGGCCACCT'))"
   ]
  },
  {
   "cell_type": "markdown",
   "metadata": {},
   "source": [
    "### 4. Make a count table of how many codons encode the same amino acid"
   ]
  },
  {
   "cell_type": "code",
   "execution_count": 14,
   "metadata": {},
   "outputs": [
    {
     "name": "stdout",
     "output_type": "stream",
     "text": [
      "I 3\n",
      "M 1\n",
      "T 4\n",
      "N 2\n",
      "K 2\n",
      "S 6\n",
      "R 6\n",
      "L 6\n",
      "P 4\n",
      "H 2\n",
      "Q 2\n",
      "V 4\n",
      "A 4\n",
      "D 2\n",
      "E 2\n",
      "G 4\n",
      "F 2\n",
      "Y 2\n",
      "_ 3\n",
      "C 2\n",
      "W 1\n"
     ]
    }
   ],
   "source": [
    "codon_table = {\n",
    "    'ATA':'I', 'ATC':'I', 'ATT':'I', 'ATG':'M', 'ACA':'T', 'ACC':'T', 'ACG':'T', 'ACT':'T',\n",
    "    'AAC':'N', 'AAT':'N', 'AAA':'K', 'AAG':'K', 'AGC':'S', 'AGT':'S', 'AGA':'R', 'AGG':'R',\n",
    "    'CTA':'L', 'CTC':'L', 'CTG':'L', 'CTT':'L', 'CCA':'P', 'CCC':'P', 'CCG':'P', 'CCT':'P',\n",
    "    'CAC':'H', 'CAT':'H', 'CAA':'Q', 'CAG':'Q', 'CGA':'R', 'CGC':'R', 'CGG':'R', 'CGT':'R',\n",
    "    'GTA':'V', 'GTC':'V', 'GTG':'V', 'GTT':'V', 'GCA':'A', 'GCC':'A', 'GCG':'A', 'GCT':'A',\n",
    "    'GAC':'D', 'GAT':'D', 'GAA':'E', 'GAG':'E', 'GGA':'G', 'GGC':'G', 'GGG':'G', 'GGT':'G',\n",
    "    'TCA':'S', 'TCC':'S', 'TCG':'S', 'TCT':'S', 'TTC':'F', 'TTT':'F', 'TTA':'L', 'TTG':'L',\n",
    "    'TAC':'Y', 'TAT':'Y', 'TAA':'_', 'TAG':'_', 'TGC':'C', 'TGT':'C', 'TGA':'_', 'TGG':'W'}\n",
    "\n",
    "codon_count = {}\n",
    "\n",
    "for codon in codon_table:\n",
    "    aa = codon_table[codon]\n",
    "    if aa in codon_count:     # If we have seen this AA before...\n",
    "        codon_count[aa] = codon_count[aa] + 1    # add one to its count\n",
    "    else:                                      # If it is the first time we see that name\n",
    "        codon_count[aa] = 1\n",
    "\n",
    "for ele in codon_count:\n",
    "    print(ele, codon_count[ele])"
   ]
  },
  {
   "cell_type": "markdown",
   "metadata": {},
   "source": [
    "### 5. Print out a sorted count table"
   ]
  },
  {
   "cell_type": "code",
   "execution_count": 15,
   "metadata": {},
   "outputs": [
    {
     "name": "stdout",
     "output_type": "stream",
     "text": [
      "S 6\n",
      "R 6\n",
      "L 6\n",
      "T 4\n",
      "P 4\n",
      "V 4\n",
      "A 4\n",
      "G 4\n",
      "I 3\n",
      "_ 3\n",
      "N 2\n",
      "K 2\n",
      "H 2\n",
      "Q 2\n",
      "D 2\n",
      "E 2\n",
      "F 2\n",
      "Y 2\n",
      "C 2\n",
      "M 1\n",
      "W 1\n"
     ]
    }
   ],
   "source": [
    "# Prints out number of different codons encoding the same amino acid \n",
    "\n",
    "codon_table = {\n",
    "    'ATA':'I', 'ATC':'I', 'ATT':'I', 'ATG':'M', 'ACA':'T', 'ACC':'T', 'ACG':'T', 'ACT':'T',\n",
    "    'AAC':'N', 'AAT':'N', 'AAA':'K', 'AAG':'K', 'AGC':'S', 'AGT':'S', 'AGA':'R', 'AGG':'R',\n",
    "    'CTA':'L', 'CTC':'L', 'CTG':'L', 'CTT':'L', 'CCA':'P', 'CCC':'P', 'CCG':'P', 'CCT':'P',\n",
    "    'CAC':'H', 'CAT':'H', 'CAA':'Q', 'CAG':'Q', 'CGA':'R', 'CGC':'R', 'CGG':'R', 'CGT':'R',\n",
    "    'GTA':'V', 'GTC':'V', 'GTG':'V', 'GTT':'V', 'GCA':'A', 'GCC':'A', 'GCG':'A', 'GCT':'A',\n",
    "    'GAC':'D', 'GAT':'D', 'GAA':'E', 'GAG':'E', 'GGA':'G', 'GGC':'G', 'GGG':'G', 'GGT':'G',\n",
    "    'TCA':'S', 'TCC':'S', 'TCG':'S', 'TCT':'S', 'TTC':'F', 'TTT':'F', 'TTA':'L', 'TTG':'L',\n",
    "    'TAC':'Y', 'TAT':'Y', 'TAA':'_', 'TAG':'_', 'TGC':'C', 'TGT':'C', 'TGA':'_', 'TGG':'W'}\n",
    "\n",
    "codon_count = {}\n",
    "\n",
    "for codon in codon_table:\n",
    "    aa = codon_table[codon]\n",
    "    if aa in codon_count:     # If we have seen this AA before...\n",
    "        codon_count[aa] = codon_count[aa] + 1    # add one to its count\n",
    "    else:                                      # If it is the first time we see that name\n",
    "        codon_count[aa] = 1\n",
    "\n",
    "sorted_codon_count = sorted(codon_count.items(), key=lambda x: x[1], reverse=True)\n",
    "\n",
    "for ele in sorted_codon_count:\n",
    "    print(ele[0], ele[1])"
   ]
  },
  {
   "cell_type": "markdown",
   "metadata": {},
   "source": [
    "### 6. Write a backtranslator (protein -> DNA). Make up an example amino sequence, backtranslate it into DNA and translate it again into a protein (Using the function you wrote above). "
   ]
  },
  {
   "cell_type": "code",
   "execution_count": 16,
   "metadata": {},
   "outputs": [
    {
     "name": "stdout",
     "output_type": "stream",
     "text": [
      "VRPP\n",
      "GTTCGTCCTCCT\n",
      "VRPP\n"
     ]
    }
   ],
   "source": [
    "# Backtranslates an amino acid sequence\n",
    "\n",
    "def Backtranslate_DNA(aa_seq):\n",
    "    \n",
    "    codon_table = {\n",
    "    'ATA':'I', 'ATC':'I', 'ATT':'I', 'ATG':'M', 'ACA':'T', 'ACC':'T', 'ACG':'T', 'ACT':'T',\n",
    "    'AAC':'N', 'AAT':'N', 'AAA':'K', 'AAG':'K', 'AGC':'S', 'AGT':'S', 'AGA':'R', 'AGG':'R',\n",
    "    'CTA':'L', 'CTC':'L', 'CTG':'L', 'CTT':'L', 'CCA':'P', 'CCC':'P', 'CCG':'P', 'CCT':'P',\n",
    "    'CAC':'H', 'CAT':'H', 'CAA':'Q', 'CAG':'Q', 'CGA':'R', 'CGC':'R', 'CGG':'R', 'CGT':'R',\n",
    "    'GTA':'V', 'GTC':'V', 'GTG':'V', 'GTT':'V', 'GCA':'A', 'GCC':'A', 'GCG':'A', 'GCT':'A',\n",
    "    'GAC':'D', 'GAT':'D', 'GAA':'E', 'GAG':'E', 'GGA':'G', 'GGC':'G', 'GGG':'G', 'GGT':'G',\n",
    "    'TCA':'S', 'TCC':'S', 'TCG':'S', 'TCT':'S', 'TTC':'F', 'TTT':'F', 'TTA':'L', 'TTG':'L',\n",
    "    'TAC':'Y', 'TAT':'Y', 'TAA':'_', 'TAG':'_', 'TGC':'C', 'TGT':'C', 'TGA':'_', 'TGG':'W'}\n",
    "    \n",
    "    rev_codon_table = {}\n",
    "    \n",
    "    for codon in codon_table:\n",
    "        aa = codon_table[codon]\n",
    "        rev_codon_table[aa] = codon\n",
    "\n",
    "    nt_seq = ''\n",
    "    \n",
    "    for aa in aa_seq:\n",
    "        nt_seq += rev_codon_table[aa]\n",
    "\n",
    "    return nt_seq    \n",
    "  \n",
    " \n",
    "aa = 'VRPP'\n",
    "aa_backtr = Backtranslate_DNA(aa)\n",
    "\n",
    "print(aa)\n",
    "print(aa_backtr)\n",
    "print(Safe_Translate_DNA(aa_backtr))"
   ]
  },
  {
   "cell_type": "markdown",
   "metadata": {},
   "source": [
    "## Solution for Exercise Counting insects\n",
    "\n",
    "```python\n",
    "\n",
    "**more SeenInsects.txt** \n",
    "Ladybug\n",
    "Mealworm\n",
    "Fruitfly\n",
    "Bumblebee\n",
    "Hoverfly\n",
    "Fruitfly\n",
    "  \n",
    "  \n",
    "\n",
    "python CountInsects.py SeenInsects.txt\n",
    "Ladybug 1\n",
    "Hoverfly 1\n",
    "Mealworm 1\n",
    "Bumblebee 1\n",
    "Fruitfly 2\n",
    "```"
   ]
  },
  {
   "cell_type": "code",
   "execution_count": null,
   "metadata": {},
   "outputs": [],
   "source": []
  }
 ],
 "metadata": {
  "kernelspec": {
   "display_name": "Python 3",
   "language": "python",
   "name": "python3"
  },
  "language_info": {
   "codemirror_mode": {
    "name": "ipython",
    "version": 3
   },
   "file_extension": ".py",
   "mimetype": "text/x-python",
   "name": "python",
   "nbconvert_exporter": "python",
   "pygments_lexer": "ipython3",
   "version": "3.6.3"
  }
 },
 "nbformat": 4,
 "nbformat_minor": 2
}
