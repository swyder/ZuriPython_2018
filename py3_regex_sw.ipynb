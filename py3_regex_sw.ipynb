{
 "cells": [
  {
   "cell_type": "markdown",
   "metadata": {},
   "source": [
    "# Regular Expressions in Python\n",
    "\n",
    "## Introduction\n",
    "\n",
    "Regular expressions (aka regex or regexp or RE) is a tiny programming language to describe sets of strings, a sort of pattern.  \n",
    "  \n",
    "Regexs often provide a safer (and faster) way of searching than a simple text search.\n",
    "\n",
    "\n",
    "They can be used for several things:\n",
    "\n",
    "- Powerful search and replace function\n",
    "- Extract information\n",
    "- Format checking\n",
    "\n",
    "\n",
    "Here we practise regular expressions using Python. We could also use the shell (grep/egrep, sed, awk), R, any other programming language and even many text editors and OpenOffice.\n",
    "\n",
    "## Simple Patterns\n",
    "\n",
    "The easiest regular expression is a literal string. For example, the regular expression `test` will match the string `test` exactly.\n",
    "\n",
    "\n",
    "In python, we first have to load the built-in module `re`:  \n",
    "```python\n",
    "import re\n",
    "```\n",
    "\n",
    "The basic format is (query being a regular expression):\n",
    "```python\n",
    "Result = re.search(query, string)\n",
    "```"
   ]
  },
  {
   "cell_type": "code",
   "execution_count": 8,
   "metadata": {},
   "outputs": [
    {
     "data": {
      "text/plain": [
       "'Arabidopsis lyrata'"
      ]
     },
     "execution_count": 8,
     "metadata": {},
     "output_type": "execute_result"
    }
   ],
   "source": [
    "import re\n",
    " \n",
    "MyString = \"Arabidopsis thaliana\"\n",
    "re.sub(\"thaliana\", \"lyrata\", MyString)"
   ]
  },
  {
   "cell_type": "markdown",
   "metadata": {},
   "source": [
    "  Let's start with a simple example. We define a regular expression `MyRe` putting the letter r immediately before the opening quotation mark:\n",
    "```python\n",
    "MyRe = r\"(\\w)(\\w+)\"\n",
    "```\n",
    "\n",
    "what | matches\n",
    "-------------------|----------------   \n",
    ". | any character    \n",
    "\\d | digit [0-9]\n",
    "\\w | word character [a-zA-Z0-9_]\n",
    "\\s | whitespace\n",
    "[AGCT] | exactly one of the enclosed characters\n",
    "\n",
    "**Quantifiers**\n",
    "\n",
    "what | matches  \n",
    "-------------------|----------------  \n",
    "\\w+ | matching once or more    \n",
    "\\w* | matching zero or more times\n",
    "{n} | matching exactly n times\n",
    "{a,b} | matching between a and b times\n",
    "\n",
    "<br> \n",
    "<br>\n",
    "```python  \n",
    "MyRe = r\"(\\w)(\\w+)\"\n",
    "```\n",
    "\n",
    "The pattern `MyRe` captures 2 strings as indicated by the pair of brackets (1. the first letter, and 2. all the rest) counting from left to right.\n",
    "\n",
    "Now we search our regular expression in the string `Arabidopsis thaliana`:"
   ]
  },
  {
   "cell_type": "code",
   "execution_count": 9,
   "metadata": {},
   "outputs": [
    {
     "name": "stdout",
     "output_type": "stream",
     "text": [
      "Arabidopsis\n",
      "A\n",
      "rabidopsis\n"
     ]
    }
   ],
   "source": [
    "MyRe = r\"(\\w)(\\w+)\"\n",
    "\n",
    "MyString = \"Arabidopsis thaliana\"\n",
    "MyResult = re.search(MyRe, MyString)\n",
    "\n",
    "# All matches together\n",
    "print(MyResult.group(0))\n",
    "\n",
    "# Now we can get the first captured match (first pair of brackets)\n",
    "print(MyResult.group(1))\n",
    "\n",
    "#And the second captured match (second pair of brackets)\n",
    "print(MyResult.group(2))"
   ]
  },
  {
   "cell_type": "markdown",
   "metadata": {},
   "source": [
    "## Functions that use regular expressions\n",
    "\n",
    "Function | Description\n",
    "-------------------|----------------   \n",
    "re.search() | Detect the presence of a pattern (**only first match**)\n",
    "re.match() |  Like re.search but only if pattern matches the entire string\n",
    "re.findall() | Like re.search but finds **all** matches\n",
    "re.finditer() | Like re.findall but returns a list of match objects\n",
    "re.sub(query, replacement, string) | Make **all** substitutions in a string\n",
    "re.split() | Split a string according to a pattern\n",
    "\n",
    "\n",
    "\n",
    "\n",
    "## Replacing text / Substitution\n",
    "\n",
    "re.sub() is for replacing text. Its arguments are <pattern> (the regular expression), <repl(acement)> (the substitution pattern) and <string> (the string to work on).\n",
    "\n",
    "The simplest regular expression pattern are just literal characters:\n",
    "```python\n",
    "MyString = \"23rd May 2000\"\n",
    "re.sub(\"May\", \"July\", MyString)\n",
    "[1] \"23rd July 2000\"\n",
    "```\n",
    "\n",
    "sub() replaces all occurences by default. Hence here we remove any space\n",
    "```python\n",
    "re.sub(\" \", \"\", \" Hello World \")\n",
    "'HelloWorld'\n",
    "```\n",
    "\n",
    "We can also replace a maximum number of occurences using  the `count` argument:\n",
    "```python\n",
    "re.sub(\" \", \"\", \" Hello World \", 1)\n",
    "'Hello World '\n",
    "\n",
    "re.sub(\" \", \"\", \" Hello World \", 2)\n",
    "'HelloWorld '\n",
    "\n",
    "re.sub(\" \", \"\", \" Hello World \", 3)\n",
    "'HelloWorld'\n",
    "```\n",
    "\n",
    "Regular expressions have much more abilities. Here we use a regular expression to only keep the 3 digits after the comma.\n",
    "\n",
    "```python\n",
    "re.sub(r\"(\\d+\\.\\d{3})\\d+\", r\"\\1\", \"34.73322532\")\n",
    "'34.733'\n",
    "```\n",
    "\n",
    "or reformat a date:\n",
    "\n",
    "```python\n",
    "re.sub(r\"(\\d+)\\w{2} (\\w+) (\\d+)\", r\"\\2 \\1 \\3\", \"23rd May 2015\")\n",
    "'May 23 2015'\n",
    "```\n",
    "Often the same thing can be done using string functions like `split()` and pasting together subsets.\n",
    "\n",
    "\n",
    "\n",
    "## Escape special characters\n",
    "\n",
    "If we look for a meta-character `$ * + . ? [ ] ^ { } | ( ) \\ ,` we precede them with a backslash. As they have a double meaning we need '\\' to interpret them as ordinary characters.\n",
    "\n",
    "In Arabidopsis, isoforms of a gene X are called like X.1, X.2, X.3. Sometimes we need a list of genes which we can achieve using a regular expression. It works with X.11 or X.100.\n",
    "\n",
    "```python\n",
    "re.sub(r\"([^\\.]+)\\.\\d+\", r\"\\1\", \"AT5G11100.3\")\n",
    "\"AT5G11100\"\n",
    "```\n",
    "\n",
    "With square brackets `[]` we define our own character class. The ^ in square brackets means that it will match any character except the one written. We have to escape the dot `\\` otherwise it means any character. Thus [^\\.] means any character but a dot. This way is a safe way to capture everything until the first dot.\n",
    "\n",
    "\n",
    "There are often many different ways to write a working regular expression. These give the same result:\n",
    "\n",
    "```python\n",
    "re.sub(r\"([^\\.]+)\\.[0123456789]+\", r\"\\1\", \"AT5G11100.3\")\n",
    "\"AT5G11100\"\n",
    "\n",
    "re.sub(r\"([A-z0-9]+)\\.0-9]+\", r\"\\1\", \"AT5G11100.3\")\n",
    "\"AT5G11100\"\n",
    "```\n",
    "\n",
    "\n",
    "## Finding text / Format checking\n",
    "\n",
    "re.search() tells you whether a regular expression matches the input string. If it matches it returns `a match object` and if it does not match `None`.\n"
   ]
  },
  {
   "cell_type": "code",
   "execution_count": 6,
   "metadata": {},
   "outputs": [
    {
     "name": "stdout",
     "output_type": "stream",
     "text": [
      "found\n"
     ]
    }
   ],
   "source": [
    "import re\n",
    "\n",
    "if re.search(r\"21\", \"21 Aug 2014\"):\n",
    "        print(\"found\")\n",
    "else: \n",
    "        print(\"not found\") "
   ]
  },
  {
   "cell_type": "markdown",
   "metadata": {},
   "source": [
    "If it matches the resulting Python object contains many attributes (private methods not shown).\n",
    "\n",
    "```python\n",
    "dir(re.search(r\"21\", \"21 Aug 2014\"))\n",
    " 'end',\n",
    " 'endpos',\n",
    " 'expand',\n",
    " 'group',\n",
    " 'groupdict',\n",
    " 'groups',\n",
    " 'lastgroup',\n",
    " 'lastindex',\n",
    " 'pos',\n",
    " 're',\n",
    " 'regs',\n",
    " 'span',\n",
    " 'start',\n",
    " 'string'\n",
    "```\n",
    "\n",
    "## Splitting\n",
    "\n",
    "```python\n",
    ">> s = \"a 1 and 2 and 3 and 4\"\n",
    ">> a = re.split(\"\\d\", s) # every number is a delimiter\n",
    ">> a\n",
    "['a ', ' and ', ' and ', ' and ', '']\n",
    "```\n",
    "\n",
    "## The power of Regexs\n",
    "\n",
    "Regexs can e.g. be used to remove HTML tags to get a simple text file:\n",
    "\n",
    "```python\n",
    "# This string contains HTML.\n",
    ">> v = \"\"\"<p id=x>Sometimes, <b>simpler</b> is better, but <i>not</i> always.</p>\"\"\"\n",
    "\n",
    "# Replace HTML tags with an empty string.\n",
    ">> result = re.sub(\"<.*?>\", \"\", v)\n",
    ">> print(result)\n",
    "'Sometimes, simpler is better, but not always.'\n",
    "```\n",
    "\n",
    "The real power comes from combining these tools:\n",
    "```\n",
    "^AUG[AUGC]{30,1000}A{5,10}$\n",
    "```\n",
    "would identify full-length eukaryotic messenger RNA sequences (AUG start, followed by 30-1000 nucleotides, terminated by a 5-10 nt poly-A tail)\n",
    "\n",
    "\n",
    "## Nota bene\n",
    "\n",
    "- Regexs by default match the maximum number of characters (aka 'greedy', can be changed with the `?` modifier, e.g. `+?` or `*?`): e.g. the regex 'a*c' on a string 'abcdefghabc' will match 'abcdefghabc', not 'abc'\n",
    "- Regexs are case-sensitive! (but can be changed with IGNORECASE flag)\n",
    "\n",
    "\n",
    "## Application in Bioinformatics\n",
    "\n",
    "Regular expressions are used a lot for data mangling (format conversion). Furthermore, regular expressions are often used for parsing, e.g. if you want to extract information from a BLAST report (e.g. the Sequence ID and the the E-value). Regular expressions can also be used to identify Sequence motifs (e.g. to search for a motif with 3 basic amino acids across 5 positions).\n",
    "\n",
    "- protein domains\n",
    "- DNA transcription factor binding motifs\n",
    "- restriction enzyme cut sites\n",
    "- degenerate PCR primer sites\n",
    "- runs of mononucleotides\n",
    "- read mapping locations\n",
    "\n",
    "### Final Comment\n",
    "\n",
    "Trial and error: Sometimes regular expressions do not behave as expected. In case of difficulties try to start simple, test parts of the regular expression and combine them once the subparts work. Often it also helps to do two rounds of replacements."
   ]
  },
  {
   "cell_type": "markdown",
   "metadata": {},
   "source": [
    "## Sources\n",
    "\n",
    "- [Regular Expression HOWTO (Python doc)](https://docs.python.org/3/howto/regex.html)\n",
    "- [re library documentation](https://docs.python.org/3/library/re.html)\n",
    "- [Software Carpentry v4](http://software-carpentry.org/v4/regexp/index.html)\n",
    "- [Haddock & Dunn. Practical Computing for Biologists. Sinauer Associates 2011.](http://practicalcomputing.org)\n",
    "- [Python for Biologists](http://pythonforbiologists.com/regular-expressions/)\n",
    "\n",
    "## Further reading\n",
    "\n",
    "- [Regex Cheatsheet](https://www.debuggex.com/cheatsheet/regex/python)\n",
    "- [RegExr](https://regexr.com/) is an online tool to learn, build, & test Regexs\n",
    "- [Sequence Analysis with RegExs](http://www.dalkescientific.com/writings/NBN/slides/regexps.pdf)\n",
    "\n",
    "**Regular expression in other languages**  \n",
    "- [in R](http://en.wikibooks.org/wiki/R_Programming/Text_Processing#Functions_which_use_regular_expressions_in_R)  \n",
    "- [using sed](http://www.grymoire.com/Unix/Sed.html#uh-4)"
   ]
  },
  {
   "cell_type": "markdown",
   "metadata": {},
   "source": [
    "## Exercises\n",
    "\n",
    "1. Write a function is_vowel() that takes a character (i.e. a string of length 1) and returns True if it is a vowel, False otherwise.\n",
    "\n",
    "2. Define a function is_palindrome() that recognizes palindromes (i.e. words that look the same written backwards). For example, is_palindrome(\"radar\") should return True.\n",
    "\n",
    "3. Modify some of the input strings and patterns/regular expression in the lesson and check whether they produce the expected results. You can e.g. add additional text to the input string or remove parts of the regex.\n",
    "\n",
    "4. Write a regular expression that checks whether a string has the valid format like \"21. Aug 2014\".\n",
    "\n",
    "5. Often we get very long sample names from sequencing centers. Develop a regex to remove the noninformative (repeated) parts of these 2 sample names:  \n",
    "  X20120401_Wyderrun31_1367.05.1_05.RCC  \n",
    "  X20120401_Wyderrun31_1482.05.1_08.RCC  \n",
    "\n",
    "6. Search for the motif [CG]CTCGA in the sequence GTGCCCCTCGAGAGGAGGGCGCGCGCCGCGCGCTCGACGCGATCGGCGCTCAGCGAGCGAGCTCCTCGAAGCGATCCGCGCGCGCT. Print position and motif for each match. Hint: use `re.finditer` and a `for` loop.\n",
    "\n",
    "7. (advanced) Have a closer look at the syntax for regular expression logic. For example, one can use\n",
    "    ```or``` statements using the pipe character:\n",
    "\n",
    "  ```python\n",
    "  motif = re.compile('[CG]CTCGA|GCGCGC')\n",
    "  ```\n",
    "\n",
    "  Write a function that will find the occurences and positions of the motif CAGCCGCG in the following gapped sequences, and return the gapped position of the match (*ie* don't cheat and simply ignore the gaps):\n",
    "\n",
    "   CCA--G-C---A--GCCG---C-GG--TA-AT\n",
    "\n",
    "  CGCA--G-C---A--GCCG---C-GG--TA-AT\n",
    "\n",
    "  TGCA--G-C---A--GCCG---C-GG--TA-AT\n",
    "  \n",
    "## Solutions"
   ]
  },
  {
   "cell_type": "code",
   "execution_count": 10,
   "metadata": {},
   "outputs": [
    {
     "name": "stdout",
     "output_type": "stream",
     "text": [
      "True\n",
      "False\n"
     ]
    }
   ],
   "source": [
    "# Solution for Exercise 1\n",
    "\n",
    "import re\n",
    "\n",
    "def is_vowel(char):\n",
    "    if re.search(\"[aeiouAEIOU]\", char):\n",
    "        return True\n",
    "    return False\n",
    "\n",
    "print(is_vowel(\"a\"))\n",
    "print(is_vowel(\"z\"))"
   ]
  },
  {
   "cell_type": "code",
   "execution_count": 11,
   "metadata": {},
   "outputs": [
    {
     "name": "stdout",
     "output_type": "stream",
     "text": [
      "True\n",
      "False\n"
     ]
    }
   ],
   "source": [
    "# Solution for Exercise 2\n",
    "\n",
    "import re\n",
    "\n",
    "def is_palindrome(str):\n",
    "    if str == str[::-1]:\n",
    "        return True\n",
    "    return False\n",
    "\n",
    "print(is_palindrome('radar'))\n",
    "print(is_palindrome('mars'))"
   ]
  },
  {
   "cell_type": "code",
   "execution_count": 40,
   "metadata": {},
   "outputs": [
    {
     "name": "stdout",
     "output_type": "stream",
     "text": [
      "True\n",
      "False\n",
      "True\n",
      "False\n",
      "False\n",
      "True\n"
     ]
    }
   ],
   "source": [
    "# Solution for Exercise 4\n",
    "\n",
    "import re\n",
    "\n",
    "def is_correct_format(str):\n",
    "    if re.match(r\"\\d{2}\\. \\w{3} \\d{4}\", str):\n",
    "        return True\n",
    "    else:\n",
    "        return False\n",
    "\n",
    "# correct format\n",
    "print(is_correct_format('21. Aug 2014'))\n",
    "# day is 1-digit only\n",
    "print(is_correct_format('2. Aug 2014'))\n",
    "# correct format\n",
    "print(is_correct_format('02. Aug 2014'))\n",
    "# dot is missing\n",
    "print(is_correct_format('02 Aug 2014'))\n",
    "# year is only 2-digit\n",
    "print(is_correct_format('02. Aug 20'))\n",
    "# A really good version should also check that the middle part is a valid month and the range of day and year.\n",
    "#  matches could be captured and tested individually\n",
    "print(is_correct_format('02. NNN 2018'))"
   ]
  },
  {
   "cell_type": "code",
   "execution_count": 50,
   "metadata": {},
   "outputs": [
    {
     "name": "stdout",
     "output_type": "stream",
     "text": [
      "1367.05.1_05\n",
      "1482.05.1_08\n"
     ]
    }
   ],
   "source": [
    "# Solution for Exercise 5\n",
    "\n",
    "# several solutions are possible, we can use a regexp or split into parts by '_' and concatenate the parts of interest\n",
    "import re\n",
    "\n",
    "def shorten_samples_names(str):\n",
    "    # [^_] matches any character but a '_' \n",
    "    return re.sub(r\"X.*Wyderrun\\d+_([^_]+_\\d+)\\.RCC\", r\"\\1\", str)\n",
    "\n",
    "\n",
    "print(shorten_samples_names('X20120401_Wyderrun31_1367.05.1_05.RCC'))\n",
    "print(shorten_samples_names('X20120401_Wyderrun31_1482.05.1_08.RCC'))"
   ]
  },
  {
   "cell_type": "code",
   "execution_count": 70,
   "metadata": {},
   "outputs": [
    {
     "name": "stdout",
     "output_type": "stream",
     "text": [
      "CCTCGA (5, 11)\n",
      "GCTCGA (31, 37)\n",
      "CCTCGA (63, 69)\n"
     ]
    }
   ],
   "source": [
    "# Solution for Exercise 6\n",
    "\n",
    "import re\n",
    "\n",
    "motif = r\"[CG]CTCGA\"\n",
    "\n",
    "dna = 'GTGCCCCTCGAGAGGAGGGCGCGCGCCGCGCGCTCGACGCGATCGGCGCTCAGCGAGCGAGCTCCTCGAAGCGATCCGCGCGCGCT'\n",
    "\n",
    "for match in re.finditer(motif, dna):\n",
    "    print(match.group(), match.span())"
   ]
  },
  {
   "cell_type": "code",
   "execution_count": 71,
   "metadata": {},
   "outputs": [
    {
     "name": "stdout",
     "output_type": "stream",
     "text": [
      "regex string: C-*A-*G-*C-*C-*G-*C-*G\n",
      "(7, 24)\n",
      "C---A--GCCG---C-G\n",
      "regex string: C-*A-*G-*C-*C-*G-*C-*G\n",
      "(8, 25)\n",
      "C---A--GCCG---C-G\n",
      "regex string: C-*A-*G-*C-*C-*G-*C-*G\n",
      "(8, 25)\n",
      "C---A--GCCG---C-G\n",
      "regex string: C-*A-*G-*C-*C-*G-*C-*G\n",
      "(15, 43)\n",
      "C---A------GC-CGC----------G\n"
     ]
    }
   ],
   "source": [
    "# Solution for Exercise 7\n",
    "\n",
    "import re\n",
    "\n",
    "def matchMotif(motif,seq):\n",
    "    \n",
    "    # insert optional gaps '-*' between all characters of motif\n",
    "    regex = list()\n",
    "    for char in motif[:-1]:      \n",
    "        char = char + '-*'\n",
    "        regex.append(char)\n",
    "    \n",
    "    regex.append(motif[-1])\n",
    "    regex = \"\".join(regex)\n",
    "    print(\"regex string: \" + regex)\n",
    "    regex = re.compile(regex)\n",
    "    \n",
    "    m = regex.finditer(seq)\n",
    "    \n",
    "    if m:\n",
    "        for match in m:\n",
    "            print(match.span())\n",
    "            print(match.group())\n",
    "    \n",
    "motif1 = 'CAGCCGCG'\n",
    "\n",
    "seqs = ['CCA--G-C---A--GCCG---C-GG--TA-AT','CGCA--G-C---A--GCCG---C-GG--TA-AT','TGCA--G-C---A--GCCG---C-GG--TA-AT',\n",
    "       '---CTTGCTCGT---C---A------GC-CGC----------G-----']\n",
    "\n",
    "for seq in seqs:\n",
    "    matchMotif(motif1, seq)"
   ]
  },
  {
   "cell_type": "code",
   "execution_count": null,
   "metadata": {},
   "outputs": [],
   "source": []
  }
 ],
 "metadata": {
  "kernelspec": {
   "display_name": "Python 3",
   "language": "python",
   "name": "python3"
  },
  "language_info": {
   "codemirror_mode": {
    "name": "ipython",
    "version": 3
   },
   "file_extension": ".py",
   "mimetype": "text/x-python",
   "name": "python",
   "nbconvert_exporter": "python",
   "pygments_lexer": "ipython3",
   "version": "3.6.3"
  }
 },
 "nbformat": 4,
 "nbformat_minor": 1
}
