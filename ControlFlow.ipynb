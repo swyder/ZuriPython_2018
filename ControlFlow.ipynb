{
 "cells": [
  {
   "cell_type": "markdown",
   "metadata": {},
   "source": [
    "# Control flow\n",
    "\n",
    "## Make choices with if, elif, else"
   ]
  },
  {
   "cell_type": "code",
   "execution_count": 1,
   "metadata": {},
   "outputs": [
    {
     "name": "stdout",
     "output_type": "stream",
     "text": [
      "greater\n"
     ]
    }
   ],
   "source": [
    "moons = 3\n",
    "if moons < 0:\n",
    "    print('less')\n",
    "elif moons == 0:\n",
    "    print('equal')\n",
    "else:\n",
    "    print('greater')"
   ]
  },
  {
   "cell_type": "markdown",
   "metadata": {},
   "source": [
    "- `elif` and `else` clauses are optional\n",
    "- can have any number of `elif` clauses\n",
    "- always tested in order"
   ]
  },
  {
   "cell_type": "markdown",
   "metadata": {},
   "source": [
    "When we ask Python what the value of moons < 0 is, we get `False`. This is because the condition, moons is smaller than 0, is not met since moons is equal to 3."
   ]
  },
  {
   "cell_type": "markdown",
   "metadata": {},
   "source": [
    "We can test multiple condition by using `and` and `or`:"
   ]
  },
  {
   "cell_type": "code",
   "execution_count": 2,
   "metadata": {},
   "outputs": [
    {
     "name": "stdout",
     "output_type": "stream",
     "text": [
      "between 1 and 10\n"
     ]
    }
   ],
   "source": [
    "moons = 5\n",
    "if moons > 0 and moons < 10:\n",
    "    print('between 1 and 10')"
   ]
  },
  {
   "cell_type": "markdown",
   "metadata": {},
   "source": [
    "# While loops\n",
    "\n",
    "One of the most powerful aspects of computer programs is their ability to perform repetion, which is the ability to do something many times. The simplest form of repetition is the `while` loop, which does something as long as some condition is true.\n",
    "\n",
    "For example, here is a small program that prints out the numbers 3, 2, and 1 using a while loop."
   ]
  },
  {
   "cell_type": "code",
   "execution_count": 3,
   "metadata": {},
   "outputs": [
    {
     "name": "stdout",
     "output_type": "stream",
     "text": [
      "3\n",
      "2\n",
      "1\n"
     ]
    }
   ],
   "source": [
    "num_moons = 3\n",
    "while num_moons > 0:\n",
    "    print(num_moons)\n",
    "    num_moons = num_moons - 1"
   ]
  },
  {
   "cell_type": "markdown",
   "metadata": {},
   "source": [
    "The loop opens with the keyword while, followed by the loop’s controlling test. Since this test is true, i.e., num_moons is greater than 0 to start, Python executes the statements in the loop body, which is the set of indented statements under the loop control. This prints out 3 and subtracts 1 from num_moons. Python then re-checks the condition. It’s still true so the program prints ’2′ and subtracts 1 from num_moons again. Another check, another print statement: the program prints ’1′, then decrements num_moons again. Since the loop’s controlling condition is now false, the program is done.\n",
    "\n",
    "We can see that this is the case by looking at the current value of num_moons."
   ]
  },
  {
   "cell_type": "code",
   "execution_count": 4,
   "metadata": {},
   "outputs": [
    {
     "data": {
      "text/plain": [
       "0"
      ]
     },
     "execution_count": 4,
     "metadata": {},
     "output_type": "execute_result"
    }
   ],
   "source": [
    "num_moons"
   ]
  },
  {
   "cell_type": "markdown",
   "metadata": {},
   "source": [
    "while loops may execute indefinitely (if the stopping condition is never met) or zero times (e.g. when we set num_moons to the negative value before running the while loop)."
   ]
  },
  {
   "cell_type": "markdown",
   "metadata": {},
   "source": [
    "### Print primes less than 1000\n",
    "\n",
    "First we setup the structure:"
   ]
  },
  {
   "cell_type": "markdown",
   "metadata": {},
   "source": [
    "```python\n",
    "num = 2\n",
    "while num <= 1000:\n",
    "    # figure out here if number is prime\n",
    "    if is_prime:\n",
    "        print(num)\n",
    "    num += 1\n",
    "```"
   ]
  },
  {
   "cell_type": "markdown",
   "metadata": {},
   "source": [
    "We start with 2 as we know 1 is not a prime.  \n",
    "Now we have to insert the code to set `is_prime` to `False` or `True`: the easiest way is to try diving it by each number that is less than it."
   ]
  },
  {
   "cell_type": "code",
   "execution_count": 5,
   "metadata": {},
   "outputs": [
    {
     "name": "stdout",
     "output_type": "stream",
     "text": [
      "2\n",
      "3\n",
      "5\n",
      "7\n",
      "11\n",
      "13\n",
      "17\n",
      "19\n",
      "23\n",
      "29\n",
      "31\n",
      "37\n",
      "41\n",
      "43\n",
      "47\n",
      "53\n",
      "59\n",
      "61\n",
      "67\n",
      "71\n",
      "73\n",
      "79\n",
      "83\n",
      "89\n",
      "97\n"
     ]
    }
   ],
   "source": [
    "num = 2\n",
    "while num <= 100:\n",
    "    is_prime = True\n",
    "    trial = 2\n",
    "    while trial < num:\n",
    "        if (num % trial) == 0:\n",
    "            is_prime = False\n",
    "        trial += 1\n",
    "    if is_prime:\n",
    "        print(num)\n",
    "    num += 1"
   ]
  },
  {
   "cell_type": "markdown",
   "metadata": {},
   "source": [
    "Note: it does not matter how much indentation you use, but the whole block has to be consistent. The Style Guide for Python Code ([PEP8](https://www.python.org/dev/peps/pep-0008/)) recommends to use 4 spaces per indentation level. Do not use tabs since different editors display tab characters with different widths."
   ]
  },
  {
   "cell_type": "markdown",
   "metadata": {},
   "source": [
    "## For loops\n",
    "\n",
    "One of the most powerful aspects of computer programs is their ability to perform repetion, which is the ability to do something many times.\n",
    "\n",
    "## Looping over a list\n",
    "\n",
    "The basic structure is:\n",
    "\n",
    "```python\n",
    "for item in list_of_items:\n",
    "    block\n",
    "```\n",
    "\n",
    "where block are indented Python commands."
   ]
  },
  {
   "cell_type": "code",
   "execution_count": 6,
   "metadata": {},
   "outputs": [
    {
     "name": "stdout",
     "output_type": "stream",
     "text": [
      "He is a nobel gas\n",
      "Ne is a nobel gas\n",
      "Ar is a nobel gas\n",
      "Kr is a nobel gas\n",
      "Xe is a nobel gas\n",
      "Rn is a nobel gas\n"
     ]
    }
   ],
   "source": [
    "nobel_gases = ['He', 'Ne', 'Ar', 'Kr', 'Xe', 'Rn']\n",
    "for gas in nobel_gases:\n",
    "    print(gas, \"is a nobel gas\")"
   ]
  },
  {
   "cell_type": "markdown",
   "metadata": {},
   "source": [
    "## Looping over integers\n",
    "\n",
    "`range()` that creates a sequence of numbers. `range()` can accept 1, 2, or 3 parameters.\n",
    "\n",
    "- If one parameter is given, `range` creates an list of that length, starting at zero and incrementing by 1. For example, `range(3)` produces the numbers `0, 1, 2`.\n",
    "- If two parameters are given, `range` starts at the first and ends just before the second, incrementing by one. For example, `range(2, 5)` produces `2, 3, 4`.\n",
    "- If range is given 3 parameters, it starts at the first one, ends just before the second one, and increments by the third one. For example `range(3, 10, 2)` produces `3, 5, 7, 9`."
   ]
  },
  {
   "cell_type": "code",
   "execution_count": 7,
   "metadata": {},
   "outputs": [
    {
     "name": "stdout",
     "output_type": "stream",
     "text": [
      "2\n",
      "3\n",
      "4\n",
      "5\n"
     ]
    }
   ],
   "source": [
    "for i in range(2, 6):\n",
    "    print(i)"
   ]
  },
  {
   "cell_type": "code",
   "execution_count": 8,
   "metadata": {},
   "outputs": [
    {
     "name": "stdout",
     "output_type": "stream",
     "text": [
      "He\n",
      "Ne\n",
      "Ar\n",
      "Kr\n",
      "Xe\n",
      "Rn\n"
     ]
    }
   ],
   "source": [
    "nobel_gases = ['He', 'Ne', 'Ar', 'Kr', 'Xe', 'Rn']\n",
    "\n",
    "for idx in range(len(nobel_gases)):\n",
    "    print(nobel_gases[idx])"
   ]
  },
  {
   "cell_type": "markdown",
   "metadata": {},
   "source": [
    "Using a for loop we can also iterate over a string, files in a directory, lines in a file, sequence features/transcripts in BioPython. We will learn this later."
   ]
  },
  {
   "cell_type": "markdown",
   "metadata": {},
   "source": [
    "### Make sure the 2 sides are of the same type\n",
    "\n",
    "Note that an integer or floating-point value will always be unequal to a string value. The expression 42 == '42' evaluates to False because Python considers the integer 42 to be different from the string '42'. Strings that contain numbers can not be used for mathematical operations!"
   ]
  },
  {
   "cell_type": "code",
   "execution_count": 9,
   "metadata": {},
   "outputs": [
    {
     "data": {
      "text/plain": [
       "False"
      ]
     },
     "execution_count": 9,
     "metadata": {},
     "output_type": "execute_result"
    }
   ],
   "source": [
    "42 == '42'"
   ]
  },
  {
   "cell_type": "code",
   "execution_count": 10,
   "metadata": {},
   "outputs": [
    {
     "data": {
      "text/plain": [
       "True"
      ]
     },
     "execution_count": 10,
     "metadata": {},
     "output_type": "execute_result"
    }
   ],
   "source": [
    "# We have to convert the string into a floating-point number first\n",
    "42 == float('42')"
   ]
  },
  {
   "cell_type": "code",
   "execution_count": 11,
   "metadata": {},
   "outputs": [
    {
     "data": {
      "text/plain": [
       "True"
      ]
     },
     "execution_count": 11,
     "metadata": {},
     "output_type": "execute_result"
    }
   ],
   "source": [
    "# integers and floating-point values can be compared\n",
    "42 == 42.0"
   ]
  },
  {
   "cell_type": "markdown",
   "metadata": {},
   "source": [
    "### Testing equality of floats is tricky\n",
    "A well-known problem in programming caused by how floating-point numbers are stored in hardware \n",
    "Solutions: https://stackoverflow.com/questions/5595425/what-is-the-best-way-to-compare-floats-for-almost-equality-in-python"
   ]
  },
  {
   "cell_type": "code",
   "execution_count": 12,
   "metadata": {},
   "outputs": [
    {
     "data": {
      "text/plain": [
       "False"
      ]
     },
     "execution_count": 12,
     "metadata": {},
     "output_type": "execute_result"
    }
   ],
   "source": [
    "0.1 + 0.2 == 0.3"
   ]
  },
  {
   "cell_type": "code",
   "execution_count": 13,
   "metadata": {},
   "outputs": [
    {
     "data": {
      "text/plain": [
       "0.30000000000000004"
      ]
     },
     "execution_count": 13,
     "metadata": {},
     "output_type": "execute_result"
    }
   ],
   "source": [
    "0.1 + 0.2"
   ]
  },
  {
   "cell_type": "code",
   "execution_count": 14,
   "metadata": {},
   "outputs": [
    {
     "data": {
      "text/plain": [
       "0.029000000000000005"
      ]
     },
     "execution_count": 14,
     "metadata": {},
     "output_type": "execute_result"
    }
   ],
   "source": [
    "import math\n",
    "\n",
    "math.sqrt(29/1000) ** 2"
   ]
  },
  {
   "cell_type": "code",
   "execution_count": 15,
   "metadata": {
    "scrolled": true
   },
   "outputs": [
    {
     "data": {
      "text/plain": [
       "True"
      ]
     },
     "execution_count": 15,
     "metadata": {},
     "output_type": "execute_result"
    }
   ],
   "source": [
    "import numpy as np\n",
    "\n",
    "# relative tolerance rtol depends on the actual problem!\n",
    "# see https://docs.scipy.org/doc/numpy/reference/generated/numpy.allclose.html\n",
    "np.isclose(0.1 + 0.2, 0.3, rtol=1e-05)"
   ]
  },
  {
   "cell_type": "markdown",
   "metadata": {},
   "source": [
    "## Sources & Links\n",
    "\n",
    "Some parts are from the Software Carpentry lesson on Control Flow: http://software-carpentry.org"
   ]
  },
  {
   "cell_type": "markdown",
   "metadata": {},
   "source": [
    "# Exercises\n",
    "\n",
    "1. Using range, write a loop that prints the first 5 natural numbers.\n",
    "2. Define a function max() that takes two numbers as arguments and returns the largest of them. Use the if-then-else construct available in Python. (It is true that Python has the max() function built in, but writing it yourself is nevertheless a good exercise.)\n",
    "3. Write your own sign function \n",
    "  (https://en.wikipedia.org/wiki/Sign_function). \n",
    "4. Calculate the sum of the integers 1 + 2 + 3 + 4 .... + n. Calculate the sum for n = 10, n = 100 and n = 1000.\n",
    "5. Make a function from your script, choose expressive variable names, comment it.\n",
    "6. Write a program able to play the \"Guess the number\"-game, where the number to be guessed is randomly chosen between 1 and 20 (Source: http://inventwithpython.com) Hint: look at the input() function. This is how it should work:\n",
    "  Output of the program (example):  \n",
    "  Hello! What is your name?  \n",
    "    Guido  \n",
    "  Well, Guido, I am thinking of a number between 1 and 20.  \n",
    "  Take a guess.  \n",
    "     10  \n",
    "  Your guess is too low.  \n",
    "  Take a guess.  \n",
    "     15  \n",
    "  Your guess is too low.  \n",
    "  Take a guess.  \n",
    "     18  \n",
    "  Good job, Guido! You guessed my number in 3 guesses!  "
   ]
  },
  {
   "cell_type": "markdown",
   "metadata": {},
   "source": [
    "## Solutions"
   ]
  },
  {
   "cell_type": "code",
   "execution_count": 16,
   "metadata": {},
   "outputs": [
    {
     "name": "stdout",
     "output_type": "stream",
     "text": [
      "1\n",
      "2\n",
      "3\n",
      "4\n",
      "5\n"
     ]
    }
   ],
   "source": [
    "# Solution for exercise 1\n",
    "\n",
    "for i in range(1, 6):\n",
    "    print(i)"
   ]
  },
  {
   "cell_type": "code",
   "execution_count": 17,
   "metadata": {},
   "outputs": [
    {
     "name": "stdout",
     "output_type": "stream",
     "text": [
      "4\n",
      "7\n",
      "4\n",
      "-4\n"
     ]
    }
   ],
   "source": [
    "# Solution for exercise 2\n",
    "\n",
    "def my_max(a, b):\n",
    "    if a >= b:\n",
    "        return a\n",
    "    else:\n",
    "        return b\n",
    "    \n",
    "print(my_max(3,4))\n",
    "print(my_max(7,4))\n",
    "print(my_max(4,4))\n",
    "print(my_max(-4,-7))"
   ]
  },
  {
   "cell_type": "code",
   "execution_count": 18,
   "metadata": {},
   "outputs": [
    {
     "name": "stdout",
     "output_type": "stream",
     "text": [
      "1\n",
      "-1\n",
      "0\n"
     ]
    }
   ],
   "source": [
    "# Solution for Exercise 3\n",
    "\n",
    "def sign(x):\n",
    "    if x > 0:\n",
    "        return 1\n",
    "    elif x < 0:\n",
    "        return -1\n",
    "    else:\n",
    "        return 0\n",
    "\n",
    "    \n",
    "print(sign(4))\n",
    "print(sign(-2))\n",
    "print(sign(0))"
   ]
  },
  {
   "cell_type": "code",
   "execution_count": 19,
   "metadata": {},
   "outputs": [
    {
     "name": "stdout",
     "output_type": "stream",
     "text": [
      "55\n"
     ]
    }
   ],
   "source": [
    "# Solution for Exercise 4\n",
    "\n",
    "n = 10\n",
    "sum = 0\n",
    "for i in range(1, n+1):\n",
    "    sum = sum + i\n",
    "print(sum)"
   ]
  },
  {
   "cell_type": "code",
   "execution_count": null,
   "metadata": {},
   "outputs": [
    {
     "name": "stdout",
     "output_type": "stream",
     "text": [
      "55\n",
      "5050\n",
      "500500\n"
     ]
    }
   ],
   "source": [
    "# Solution for Exercise 5\n",
    "\n",
    "def sum_of_series(n):\n",
    "    ''' Calculates the sum of 1+2+3+4 ... + n '''\n",
    "    sum = 0\n",
    "    for i in range(1, n+1):\n",
    "        sum = sum + i\n",
    "    return sum\n",
    "    \n",
    "print(sum_of_series(10))\n",
    "print(sum_of_series(100))\n",
    "print(sum_of_series(1000))"
   ]
  },
  {
   "cell_type": "code",
   "execution_count": null,
   "metadata": {},
   "outputs": [],
   "source": [
    "# Solution for exercise 6\n",
    "\n",
    "def guesser():\n",
    "  \"\"\"\n",
    "  author: S. Sousa\n",
    "  \"\"\"\n",
    "\n",
    "  import random\n",
    "\n",
    "  name = input(\"Hello! What is your name?    \")\n",
    "  number_to_guess = random.randint(1,20)\n",
    "  trys = 5;\n",
    "  print(\"Well, \",name,\" , I am thinking of a number between 1 and 20.\")\n",
    "  guess_counter = 1\n",
    "  while guess_counter <= trys:\n",
    "    number=int(input(\"Take a guess!: \"))\n",
    "    if number == number_to_guess:\n",
    "      print('Good job %s! You guessed my number in %d guesses!' % (name,guess_counter))\n",
    "      return\n",
    "    if number > number_to_guess:\n",
    "      print('Your number is too High')\n",
    "    else:\n",
    "      print('Your number is too low!')\n",
    "    guess_counter += 1\n",
    "  print('You were not able to guess the number in less than %d .' % trys)\n",
    "  print('I was thinking on the number ', number_to_guess)\n",
    "\n",
    "\n",
    "guesser()"
   ]
  },
  {
   "cell_type": "code",
   "execution_count": null,
   "metadata": {},
   "outputs": [],
   "source": []
  }
 ],
 "metadata": {
  "kernelspec": {
   "display_name": "Python 3",
   "language": "python",
   "name": "python3"
  },
  "language_info": {
   "codemirror_mode": {
    "name": "ipython",
    "version": 3
   },
   "file_extension": ".py",
   "mimetype": "text/x-python",
   "name": "python",
   "nbconvert_exporter": "python",
   "pygments_lexer": "ipython3",
   "version": "3.6.3"
  }
 },
 "nbformat": 4,
 "nbformat_minor": 2
}
