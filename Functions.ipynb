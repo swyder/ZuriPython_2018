{
 "cells": [
  {
   "cell_type": "markdown",
   "metadata": {},
   "source": [
    "# Functions and clean code\n",
    "\n",
    "Functions are little stand-alone programs that are called from within your own program. Writing functions is key for writing nice code.\n",
    "\n",
    "We define new functions using `def`. Let's define a very simple function `SquareNumber` that returns the square of a number:"
   ]
  },
  {
   "cell_type": "code",
   "execution_count": 1,
   "metadata": {},
   "outputs": [],
   "source": [
    "def SquareNumber(Number):\n",
    "    Squared = Number ** 2\n",
    "    return Squared"
   ]
  },
  {
   "cell_type": "markdown",
   "metadata": {},
   "source": [
    "Results of a function can be returned as an object using the `return` statement.\n",
    "\n",
    "To call a function, we just use the function's name, followed by the argument(s) in parentheses:  \n",
    "`SquareNumber(4)` returns 16."
   ]
  },
  {
   "cell_type": "code",
   "execution_count": 2,
   "metadata": {},
   "outputs": [
    {
     "data": {
      "text/plain": [
       "16"
      ]
     },
     "execution_count": 2,
     "metadata": {},
     "output_type": "execute_result"
    }
   ],
   "source": [
    "SquareNumber(4)"
   ]
  },
  {
   "cell_type": "markdown",
   "metadata": {},
   "source": [
    "Function calls always have parentheses. However, some functions produce outputs without needing any input, so the parentheses are empty."
   ]
  },
  {
   "cell_type": "code",
   "execution_count": 3,
   "metadata": {},
   "outputs": [
    {
     "name": "stdout",
     "output_type": "stream",
     "text": [
      "Hi there\n"
     ]
    }
   ],
   "source": [
    "def SayHi():\n",
    "    print(\"Hi there\")\n",
    "    \n",
    "SayHi()"
   ]
  },
  {
   "cell_type": "markdown",
   "metadata": {},
   "source": [
    "Python has many built-in functions, and you can access many more by installing new modules. So there’s no-doubt you already use functions:"
   ]
  },
  {
   "cell_type": "code",
   "execution_count": 4,
   "metadata": {
    "scrolled": false
   },
   "outputs": [
    {
     "name": "stdout",
     "output_type": "stream",
     "text": [
      "5.0\n",
      "4\n",
      "2.0\n"
     ]
    }
   ],
   "source": [
    "print(abs(-5.0))\n",
    "print(max([1,2,4]))\n",
    "\n",
    "import math\n",
    "print(math.log10(100))"
   ]
  },
  {
   "cell_type": "markdown",
   "metadata": {},
   "source": [
    "Note that any variables that we create as part of the function only exist inside the function, and cannot be accessed outside (which is also true in loops)."
   ]
  },
  {
   "cell_type": "code",
   "execution_count": 5,
   "metadata": {},
   "outputs": [],
   "source": [
    "def SquareNumber(Number):\n",
    "    Squared = Number ** 2\n",
    "    return Squared"
   ]
  },
  {
   "cell_type": "markdown",
   "metadata": {},
   "source": [
    " In the SquareNumber function, the Squared variable is only valid within the body of the SquareNumber function – it is unaffected by any other variable called Squared and it does not affect any other variable called Squared. This means when you read code you don’t have to look elsewhere to reason about what values variables might take.\n",
    "\n",
    "Along similar lines, as much as possible functions should be self contained and not depend on things like global variables (defined by: global variableName)."
   ]
  },
  {
   "cell_type": "markdown",
   "metadata": {},
   "source": [
    "## Default arguments\n",
    "\n",
    "We can define default values. The function `adjust` has a required argument `value` and an optional argument `amount`:"
   ]
  },
  {
   "cell_type": "code",
   "execution_count": 6,
   "metadata": {},
   "outputs": [],
   "source": [
    "def adjust(value, amount=2.0):\n",
    "  return value * amount"
   ]
  },
  {
   "cell_type": "markdown",
   "metadata": {},
   "source": [
    "If we call this function with one parameter, it is assigned to `value`, and 2.0 is used for `amount`"
   ]
  },
  {
   "cell_type": "code",
   "execution_count": 7,
   "metadata": {},
   "outputs": [
    {
     "data": {
      "text/plain": [
       "10.0"
      ]
     },
     "execution_count": 7,
     "metadata": {},
     "output_type": "execute_result"
    }
   ],
   "source": [
    "adjust(5)"
   ]
  },
  {
   "cell_type": "markdown",
   "metadata": {},
   "source": [
    "If we call `adjust` with two parameters, the second overrides the default for `amount`."
   ]
  },
  {
   "cell_type": "code",
   "execution_count": 8,
   "metadata": {},
   "outputs": [
    {
     "data": {
      "text/plain": [
       "35"
      ]
     },
     "execution_count": 8,
     "metadata": {},
     "output_type": "execute_result"
    }
   ],
   "source": [
    "adjust(5, 7)"
   ]
  },
  {
   "cell_type": "markdown",
   "metadata": {},
   "source": [
    "## How do we write functions?\n",
    "\n",
    "- One task, one function\n",
    "- Choose intuitive names (but don't overwrite built-in functions)\n",
    "- Tell us what the function is doing, not how\n",
    "- Functions should not be longer than 60-100 lines\n",
    "\n",
    "\n",
    "## Why do we write functions?\n",
    "\n",
    "If you copy & paste code 3 or more times, write a function. But there are many more reasons to write functions:"
   ]
  },
  {
   "cell_type": "markdown",
   "metadata": {},
   "source": [
    "Human short term memory can hold 7+-2 items. If somebody has to keep more things in their mind at once to understand a block of code: break it into comprehensible pieces with functions.\n",
    "\n",
    "- Makes the code easier to read\n",
    "- Avoids code duplication - easier bug fixing\n",
    "- Allows easy reuse across projects\n",
    "\n",
    "Often the process of moving code into functions happens incrementally while writing code. Many good programmers will write first the scaffold and only then the functions it implies."
   ]
  },
  {
   "cell_type": "markdown",
   "metadata": {},
   "source": [
    "## Making code more readable\n",
    "\n",
    "“Any fool can write code that a computer can understand. Good programmers write code that humans can understand.”\n",
    "— (Martin Fowler)\n",
    "\n",
    "Anyone should be able to pick up the code and understand what is does. \"You're always working on a project with at least 1 other collaborator, and that is future you\" Hadley Wickham\n",
    "\n",
    "Consider two short pieces of code:\n",
    "\n",
    "```python\n",
    "response_logit = log(response / (1 - response))\n",
    "```\n",
    "\n",
    "and \n",
    "\n",
    "```python\n",
    "def logit(p):\n",
    "    return log(p / (1-p))\n",
    "\n",
    "response.logit = logit(reponse)\n",
    "```\n",
    "\n",
    "Although the first one is much shorter than the second one, it is less easy to understand. You can read the application of the function as a sentence and you are not bogged down in the detail of how a logit transformation actually happens. The second form is also more reliable - it would not be possible for the `p` within `logit` to point at two different variables."
   ]
  },
  {
   "cell_type": "markdown",
   "metadata": {},
   "source": [
    "## Use comments in your code\n",
    "\n",
    "Everything in a line of code following the ‘#’ symbol is a comment that is ignored by Python.\n",
    "\n",
    "What does this function do?"
   ]
  },
  {
   "cell_type": "code",
   "execution_count": 9,
   "metadata": {},
   "outputs": [],
   "source": [
    "def what( x, n ):\n",
    "    if n < 0:         \n",
    "        n = -n         \n",
    "        x = 1.0 / x     \n",
    "    z = 1.0    \n",
    "    while n > 0:\n",
    "        if n % 2 == 1:\n",
    "            z *= x\n",
    "        x *= x\n",
    "        n /= 2\n",
    "    return z"
   ]
  },
  {
   "cell_type": "markdown",
   "metadata": {},
   "source": [
    "- Avoid writing comments that just repeat what the code says\n",
    "- Write things that will make your life easier when you come back to a project:  \n",
    "  - describe your intent\n",
    "  - reasons for approaches\n",
    "  - sources of data / code / algorithm"
   ]
  },
  {
   "cell_type": "markdown",
   "metadata": {},
   "source": [
    "### Use Docstring (one-line or multi-line)"
   ]
  },
  {
   "cell_type": "code",
   "execution_count": 10,
   "metadata": {},
   "outputs": [
    {
     "name": "stdout",
     "output_type": "stream",
     "text": [
      "python\n",
      "Help on function lower_first in module __main__:\n",
      "\n",
      "lower_first(string)\n",
      "    This function takes an input string and returns the string with a lower first letter.\n",
      "\n"
     ]
    }
   ],
   "source": [
    "def lower_first(string):\n",
    "    \"\"\" \n",
    "    This function takes an input string and returns the string with a lower first letter. \n",
    "    \n",
    "    \"\"\"    \n",
    "    tmp = string[0].lower()\n",
    "    for i in range(1, len(string)):\n",
    "        tmp += string[i]\n",
    "    return tmp\n",
    "\n",
    "\n",
    "print(lower_first('Python'))\n",
    "help(lower_first)"
   ]
  },
  {
   "cell_type": "markdown",
   "metadata": {},
   "source": [
    "## Key points\n",
    "- Break programs down into functions to make them easier to understand.\n",
    "- Define a function using `def` with a name, parameters, and a block of code.\n",
    "- Defining a function does not run it.\n",
    "- Arguments in call are matched to parameters in definition.\n",
    "- Functions may return a result to their caller using return."
   ]
  },
  {
   "cell_type": "markdown",
   "metadata": {},
   "source": [
    "## Sources\n",
    "Some code snippets are from [Software Carpentry](http://software-carpentry.org) or [Data Carpentry](http://www.datacarpentry.org) lessons."
   ]
  },
  {
   "cell_type": "markdown",
   "metadata": {},
   "source": [
    "## Exercise 1\n",
    "\n",
    "```python\n",
    "def print_date(year, month, day):\n",
    "    joined = str(year) + '/' + str(month) + '/' + str(day)\n",
    "    print(joined)\n",
    "```\n",
    "\n",
    "1. Change the values of the arguments in the function and check its output.\n",
    "2. Try calling the function with a different order of arguments.\n",
    "3. Try calling the function by giving it the wrong number of arguments (not 3).\n",
    "4. Declare a variable inside the function and test to see where it exists (Hint: can you print it from outside the function?)\n",
    "5. Explore what happens when a variable both inside and outside the function have the same name. What happens to the global variable when you change the value of the local variable?"
   ]
  },
  {
   "cell_type": "markdown",
   "metadata": {},
   "source": [
    "## Exercise 2\n",
    "\n",
    "Write a function that accepts two (short) DNA sequences, a name for the sequence, and prints the FASTA formatted version of the two sequences concatenated together. Include the length of the concatenated DNA sequence in the fasta header."
   ]
  },
  {
   "cell_type": "markdown",
   "metadata": {},
   "source": [
    "## Exercise 3\n",
    "\n",
    "Write a function that returns the reverse complement of the following sequence:\n",
    "    \n",
    "GTGCCCCTCGAGAGGAGGGCGCGCGCCGCGCGCTCGACGCGATCGGCGCTCAGCGAGCGAGCTCCTCGAAGCGATCCGCGCGCGCT"
   ]
  },
  {
   "cell_type": "markdown",
   "metadata": {},
   "source": [
    "## Exercise 4\n",
    "\n",
    "Write a module which includes a function to generate the reverse complement of a DNA sequence. Import the module into your Jupyter Notebook session and generate the reverse complement of the following sequence:\n",
    "\n",
    "GCCACCCGTAGCTGGGGCGTAGCTAGTGTCGAGGCGAGCGGCGGCAGTCGATGCTAGCCTAGCATGCTGCTAGTGATAAAAAAATTTGG\n",
    "\n",
    "## Solutions"
   ]
  },
  {
   "cell_type": "code",
   "execution_count": 11,
   "metadata": {},
   "outputs": [
    {
     "name": "stdout",
     "output_type": "stream",
     "text": [
      "2018/2/26\n",
      "2018/2/26\n"
     ]
    }
   ],
   "source": [
    "# Solution for Exercise 1\n",
    "def print_date(year, month, day):\n",
    "    joined = str(year) + '/' + str(month) + '/' + str(day)\n",
    "    print(joined)\n",
    "\n",
    "# Part 1\n",
    "print_date(2018, 2, 26)\n",
    "# Part 2\n",
    "print_date(month=2, day=26, year=2018)\n",
    "# Part 3\n",
    "# calling a function with an incorrect number of arguments throws an error\n",
    "# print_date(2, 26)"
   ]
  },
  {
   "cell_type": "code",
   "execution_count": 12,
   "metadata": {
    "scrolled": true
   },
   "outputs": [
    {
     "name": "stdout",
     "output_type": "stream",
     "text": [
      "2018/2/26\n"
     ]
    },
    {
     "ename": "NameError",
     "evalue": "name 'joined2' is not defined",
     "output_type": "error",
     "traceback": [
      "\u001b[0;31m---------------------------------------------------------------------------\u001b[0m",
      "\u001b[0;31mNameError\u001b[0m                                 Traceback (most recent call last)",
      "\u001b[0;32m<ipython-input-12-d72abce53d59>\u001b[0m in \u001b[0;36m<module>\u001b[0;34m()\u001b[0m\n\u001b[1;32m      8\u001b[0m \u001b[0mprint_date_2\u001b[0m\u001b[0;34m(\u001b[0m\u001b[0;36m2018\u001b[0m\u001b[0;34m,\u001b[0m \u001b[0;36m2\u001b[0m\u001b[0;34m,\u001b[0m \u001b[0;36m26\u001b[0m\u001b[0;34m)\u001b[0m\u001b[0;34m\u001b[0m\u001b[0m\n\u001b[1;32m      9\u001b[0m \u001b[0;31m# line below throws an error as variable 'joined2' is not defined outside the function\u001b[0m\u001b[0;34m\u001b[0m\u001b[0;34m\u001b[0m\u001b[0m\n\u001b[0;32m---> 10\u001b[0;31m \u001b[0mprint\u001b[0m\u001b[0;34m(\u001b[0m\u001b[0mjoined2\u001b[0m\u001b[0;34m)\u001b[0m\u001b[0;34m\u001b[0m\u001b[0m\n\u001b[0m",
      "\u001b[0;31mNameError\u001b[0m: name 'joined2' is not defined"
     ]
    }
   ],
   "source": [
    "# Part 4\n",
    "# A variable only exists inside the function (more precisely: inside the code block with the same or more indentation)\n",
    "# We define a new function\n",
    "def print_date_2(year, month, day):\n",
    "    joined2 = str(year) + '/' + str(month) + '/' + str(day)\n",
    "    print(joined2)\n",
    "\n",
    "print_date_2(2018, 2, 26)\n",
    "# line below throws an error as variable 'joined2' is not defined outside the function\n",
    "print(joined2)"
   ]
  },
  {
   "cell_type": "code",
   "execution_count": 13,
   "metadata": {},
   "outputs": [
    {
     "name": "stdout",
     "output_type": "stream",
     "text": [
      "2018/2/26\n",
      "SIB\n"
     ]
    }
   ],
   "source": [
    "# Part 5\n",
    "# We reuse the function print_date_2\n",
    "# We assign a variable with the same name as used in the function\n",
    "joined2 = 'SIB'\n",
    "# the output of the function (with the internal variable joined2) is not affected by the variable joined2 that was assigned outside of the function\n",
    "print_date_2(2018, 2, 26)\n",
    "# the value of the variable2 is not affected by running the function, there is no interference \n",
    "print(joined2)"
   ]
  },
  {
   "cell_type": "code",
   "execution_count": 14,
   "metadata": {},
   "outputs": [
    {
     "name": "stdout",
     "output_type": "stream",
     "text": [
      ">concatenated_sequences length 44\n",
      "GTGACTGATCGATCGATCGTACTAGTCGGGGGCACGCGAGGATC\n"
     ]
    }
   ],
   "source": [
    "# Solution for Exercise 2\n",
    "\n",
    "def concat_seq(seq1, seq2):\n",
    "    seq = seq1 + seq2\n",
    "    print(\">concatenated_sequences length\", str(len(seq)))\n",
    "    print(seq)\n",
    "    \n",
    "concat_seq('GTGACTGATCGATCGATCGTACTAGTC', 'GGGGGCACGCGAGGATC')"
   ]
  },
  {
   "cell_type": "code",
   "execution_count": 15,
   "metadata": {},
   "outputs": [
    {
     "data": {
      "text/plain": [
       "'AGCGCGCGCGGATCGCTTCGAGGAGCTCGCTCGCTGAGCGCCGATCGCGTCGAGCGCGCGGCGCGCGCCCTCCTCTCGAGGGGCAC'"
      ]
     },
     "execution_count": 15,
     "metadata": {},
     "output_type": "execute_result"
    }
   ],
   "source": [
    "# Solution for Exercise 3\n",
    "\n",
    "# for an alternative solution see Exercise 6 of PythonBasics lesson\n",
    "def reverse_complement(seq):\n",
    "    seq = seq.replace(\"A\",\"t\")\n",
    "    seq = seq.replace(\"T\",\"a\")\n",
    "    seq = seq.replace(\"C\",\"g\")\n",
    "    seq = seq.replace(\"G\",\"c\")\n",
    "    seq = seq.upper()\n",
    "    seq = seq[::-1]\n",
    " \n",
    "    return seq\n",
    "\n",
    "\n",
    "seq1 = 'GTGCCCCTCGAGAGGAGGGCGCGCGCCGCGCGCTCGACGCGATCGGCGCTCAGCGAGCGAGCTCCTCGAAGCGATCCGCGCGCGCT'\n",
    "\n",
    "reverse_complement(seq1)"
   ]
  },
  {
   "cell_type": "markdown",
   "metadata": {},
   "source": [
    "### Solution for Exercise 4\n",
    "Modules in Python are simply Python files with a .py extension. The name of the module will be the name of the file.\n",
    "See also Python documentation https://docs.python.org/3/tutorial/modules.html \n",
    " \n",
    "Open a text editor and save the following code as reverse_complement.py in the directory where you run the Jupyter Notebook:\n",
    "\n",
    "```python\n",
    "def rev_complement(seq):\n",
    "    \"\"\"This function returns the reverse complement of a nucleotide sequence \"\"\"\n",
    "    seq = seq.replace(\"A\",\"t\")\n",
    "    seq = seq.replace(\"T\",\"a\")\n",
    "    seq = seq.replace(\"C\",\"g\")\n",
    "    seq = seq.replace(\"G\",\"c\")\n",
    "    seq = seq.upper()\n",
    "    seq = seq[::-1]\n",
    "\n",
    "    return seq\n",
    "```"
   ]
  },
  {
   "cell_type": "code",
   "execution_count": 16,
   "metadata": {},
   "outputs": [
    {
     "name": "stdout",
     "output_type": "stream",
     "text": [
      "Help on module reverse_complement:\n",
      "\n",
      "NAME\n",
      "    reverse_complement\n",
      "\n",
      "FUNCTIONS\n",
      "    rev_complement(seq)\n",
      "        This function returns the reverse complement of a nucleotide sequence\n",
      "\n",
      "FILE\n",
      "    /home/student/PYTHON_Feb2018/reverse_complement.py\n",
      "\n",
      "\n",
      "CCAAATTTTTTTATCACTAGCAGCATGCTAGGCTAGCATCGACTGCCGCCGCTCGCCTCGACACTAGCTACGCCCCAGCTACGGGTGGC\n"
     ]
    }
   ],
   "source": [
    "# imports the file reverse_complement.py in the current directory:\n",
    "import reverse_complement\n",
    "# or alternatively\n",
    "#from reverse_complement import rev_complement\n",
    "\n",
    "help(reverse_complement)\n",
    "\n",
    "seq2 = 'GCCACCCGTAGCTGGGGCGTAGCTAGTGTCGAGGCGAGCGGCGGCAGTCGATGCTAGCCTAGCATGCTGCTAGTGATAAAAAAATTTGG'\n",
    "\n",
    "print(reverse_complement.rev_complement(seq2))"
   ]
  },
  {
   "cell_type": "code",
   "execution_count": null,
   "metadata": {},
   "outputs": [],
   "source": []
  }
 ],
 "metadata": {
  "kernelspec": {
   "display_name": "Python 3",
   "language": "python",
   "name": "python3"
  },
  "language_info": {
   "codemirror_mode": {
    "name": "ipython",
    "version": 3
   },
   "file_extension": ".py",
   "mimetype": "text/x-python",
   "name": "python",
   "nbconvert_exporter": "python",
   "pygments_lexer": "ipython3",
   "version": "3.6.3"
  }
 },
 "nbformat": 4,
 "nbformat_minor": 2
}
